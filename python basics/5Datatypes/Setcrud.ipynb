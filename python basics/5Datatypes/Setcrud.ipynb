{
 "cells": [
  {
   "cell_type": "code",
   "execution_count": 1,
   "id": "cbe79c25-3933-4801-b5db-28181f5e87d3",
   "metadata": {},
   "outputs": [
    {
     "name": "stdout",
     "output_type": "stream",
     "text": [
      "{104, 101, 102, 103}\n",
      "{0, 1, 2, 3, 4, 5, 6, 7, 8, 9}\n"
     ]
    }
   ],
   "source": [
    "#SET\n",
    "#group of elements as one entity where duplicates are not allowed \n",
    "#insertion order s not preserved because indexing is not possible and also no order gaurantee\n",
    "#list mutable object\n",
    "#we can iterate using for loop\n",
    "\n",
    "#CREATE\n",
    "ids1={101,102,103,104}\n",
    "ids2=set(range(10))\n",
    "print(ids1)\n",
    "print(ids2)"
   ]
  },
  {
   "cell_type": "code",
   "execution_count": 3,
   "id": "1af313a0-d13b-4eb9-a4f6-0d4c9a270648",
   "metadata": {},
   "outputs": [
    {
     "name": "stdout",
     "output_type": "stream",
     "text": [
      "{10, 11, 12, 13, 14}\n",
      "{0, 1, 2, 3, 4, 5, 6, 7, 8, 9, 10, 11, 12, 13, 14, 15, 16, 17, 18, 19}\n"
     ]
    }
   ],
   "source": [
    "#READ\n",
    "ids1={10,11,12,13,14}\n",
    "ids2=set(range(20))\n",
    "print(ids1)\n",
    "print(ids2)"
   ]
  },
  {
   "cell_type": "code",
   "execution_count": 4,
   "id": "54fb7714-93f0-470f-a214-0313b275556d",
   "metadata": {},
   "outputs": [
    {
     "name": "stdout",
     "output_type": "stream",
     "text": [
      "{101, 102, 103}\n"
     ]
    }
   ],
   "source": [
    "#DELETE\n",
    "#remove()\n",
    "ids={101,102,103,104}\n",
    "ids.remove(104)\n",
    "print(ids)"
   ]
  },
  {
   "cell_type": "code",
   "execution_count": 5,
   "id": "86f9e1a7-b006-4e76-898a-9e4ce396379c",
   "metadata": {},
   "outputs": [
    {
     "ename": "KeyError",
     "evalue": "106",
     "output_type": "error",
     "traceback": [
      "\u001b[1;31m---------------------------------------------------------------------------\u001b[0m",
      "\u001b[1;31mKeyError\u001b[0m                                  Traceback (most recent call last)",
      "Cell \u001b[1;32mIn[5], line 2\u001b[0m\n\u001b[0;32m      1\u001b[0m ids\u001b[38;5;241m=\u001b[39m{\u001b[38;5;241m101\u001b[39m,\u001b[38;5;241m102\u001b[39m,\u001b[38;5;241m103\u001b[39m,\u001b[38;5;241m104\u001b[39m}\n\u001b[1;32m----> 2\u001b[0m \u001b[43mids\u001b[49m\u001b[38;5;241;43m.\u001b[39;49m\u001b[43mremove\u001b[49m\u001b[43m(\u001b[49m\u001b[38;5;241;43m106\u001b[39;49m\u001b[43m)\u001b[49m\n\u001b[0;32m      3\u001b[0m \u001b[38;5;28mprint\u001b[39m(ids)\n",
      "\u001b[1;31mKeyError\u001b[0m: 106"
     ]
    }
   ],
   "source": [
    "ids={101,102,103,104}\n",
    "ids.remove(106) #if you try to remove element that are not present in set gives key error\n",
    "print(ids)"
   ]
  },
  {
   "cell_type": "code",
   "execution_count": 6,
   "id": "65f91c21-cd50-4cfb-b379-aae7c929ba70",
   "metadata": {},
   "outputs": [
    {
     "name": "stdout",
     "output_type": "stream",
     "text": [
      "{101, 102, 103}\n"
     ]
    }
   ],
   "source": [
    "#discard()\n",
    "ids={101,102,103,104}\n",
    "ids.discard(104)\n",
    "print(ids)"
   ]
  },
  {
   "cell_type": "code",
   "execution_count": 8,
   "id": "b421d031-c5cd-4a89-b7a4-9114dffca434",
   "metadata": {},
   "outputs": [
    {
     "name": "stdout",
     "output_type": "stream",
     "text": [
      "{104, 101, 102, 103}\n"
     ]
    }
   ],
   "source": [
    "ids={101,102,103,104}\n",
    "ids.discard(106)\n",
    "print(ids) #in this case if try to discard the element not present set does give any error that is the difference between remove and discard"
   ]
  },
  {
   "cell_type": "code",
   "execution_count": 9,
   "id": "68fb1de4-5873-4ca0-a130-0334e35b2837",
   "metadata": {},
   "outputs": [
    {
     "name": "stdout",
     "output_type": "stream",
     "text": [
      "{101, 102, 103}\n"
     ]
    }
   ],
   "source": [
    "#pop()-removes the random element element from the set,random element because indexing is not applicable\n",
    "ids={101,102,103,104}\n",
    "ids.pop()\n",
    "print(ids)"
   ]
  },
  {
   "cell_type": "code",
   "execution_count": 10,
   "id": "52ec2c19-b5f1-4d5d-a856-7ab8f51f251a",
   "metadata": {},
   "outputs": [
    {
     "name": "stdout",
     "output_type": "stream",
     "text": [
      "set()\n"
     ]
    }
   ],
   "source": [
    "#clear()- clears all the elements in the set\n",
    "ids={101,102,103,104}\n",
    "ids.clear()\n",
    "print(ids)\n"
   ]
  },
  {
   "cell_type": "code",
   "execution_count": 1,
   "id": "d1190385-a517-4943-b1f0-efa80ba2c96e",
   "metadata": {},
   "outputs": [
    {
     "name": "stdout",
     "output_type": "stream",
     "text": [
      "{40, 10, 50, 20, 60, 30}\n"
     ]
    }
   ],
   "source": [
    "#set operations\n",
    "#union-gives all element\n",
    "s1={10,20,30,40,}\n",
    "s2={30,40,50,60}\n",
    "print(s1.union(s2))"
   ]
  },
  {
   "cell_type": "code",
   "execution_count": 2,
   "id": "343bc5ee-f4d2-4197-a299-c716382f2d33",
   "metadata": {},
   "outputs": [
    {
     "name": "stdout",
     "output_type": "stream",
     "text": [
      "{40, 10, 50, 20, 60, 30}\n"
     ]
    }
   ],
   "source": [
    "s1={10,20,30,40}\n",
    "s2={30,40,50,60}\n",
    "print(s1|s2)"
   ]
  },
  {
   "cell_type": "code",
   "execution_count": 3,
   "id": "93a3ed64-29dc-4f56-b3cc-4cd9c5b531ef",
   "metadata": {},
   "outputs": [
    {
     "name": "stdout",
     "output_type": "stream",
     "text": [
      "{40, 30}\n"
     ]
    }
   ],
   "source": [
    "#intersection-gives common element\n",
    "s1={10,20,30,40}\n",
    "s2={30,40,50,60}\n",
    "print(s1 & s2)"
   ]
  },
  {
   "cell_type": "code",
   "execution_count": 4,
   "id": "1bd05ee2-b47c-4585-940f-a53cdc466af2",
   "metadata": {},
   "outputs": [
    {
     "name": "stdout",
     "output_type": "stream",
     "text": [
      "{40, 30}\n"
     ]
    }
   ],
   "source": [
    "s1={10,20,30,40}\n",
    "s2={30,40,50,60}\n",
    "print(s1.intersection(s2))"
   ]
  },
  {
   "cell_type": "code",
   "execution_count": 10,
   "id": "18655ff0-43ac-4123-a540-154ea04819ea",
   "metadata": {},
   "outputs": [
    {
     "name": "stdout",
     "output_type": "stream",
     "text": [
      "{10, 20}\n",
      "{10, 20}\n"
     ]
    }
   ],
   "source": [
    "#difference-gives either s1 or s2\n",
    "s1={10,20,30,40}\n",
    "s2={30,40,50,60}\n",
    "print(s1.difference(s2))\n",
    "print(s1-s2)"
   ]
  },
  {
   "cell_type": "code",
   "execution_count": 9,
   "id": "c7f564bd-b3f8-4097-b502-3c98fa3cbcea",
   "metadata": {},
   "outputs": [
    {
     "name": "stdout",
     "output_type": "stream",
     "text": [
      "{50, 60}\n",
      "{50, 60}\n"
     ]
    }
   ],
   "source": [
    "s1={10,20,30,40}\n",
    "s2={30,40,50,60}\n",
    "print(s2.difference(s1))\n",
    "print(s2-s1)"
   ]
  },
  {
   "cell_type": "code",
   "execution_count": 15,
   "id": "bdccfa39-c40d-403f-bf2d-bfe637ac95c3",
   "metadata": {},
   "outputs": [
    {
     "name": "stdout",
     "output_type": "stream",
     "text": [
      "{10, 50, 20, 60}\n",
      "{10, 50, 20, 60}\n"
     ]
    }
   ],
   "source": [
    "#symmetric difference-removes common element\n",
    "s1={10,20,30,40}\n",
    "s2={30,40,50,60}\n",
    "print(s1.symmetric_difference(s2))\n",
    "print(s1 ^ s2)"
   ]
  },
  {
   "cell_type": "code",
   "execution_count": null,
   "id": "a4f36fce-df6d-41ee-bd2f-0b0d0305c4b3",
   "metadata": {},
   "outputs": [],
   "source": []
  },
  {
   "cell_type": "code",
   "execution_count": null,
   "id": "ab9aaf3f-384c-422f-8184-22ce13606672",
   "metadata": {},
   "outputs": [],
   "source": []
  }
 ],
 "metadata": {
  "kernelspec": {
   "display_name": "Python 3 (ipykernel)",
   "language": "python",
   "name": "python3"
  },
  "language_info": {
   "codemirror_mode": {
    "name": "ipython",
    "version": 3
   },
   "file_extension": ".py",
   "mimetype": "text/x-python",
   "name": "python",
   "nbconvert_exporter": "python",
   "pygments_lexer": "ipython3",
   "version": "3.12.3"
  }
 },
 "nbformat": 4,
 "nbformat_minor": 5
}
