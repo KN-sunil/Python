{
 "cells": [
  {
   "cell_type": "code",
   "execution_count": 1,
   "id": "0164b309-d2b0-43f0-82ab-2a6bd84a7650",
   "metadata": {},
   "outputs": [
    {
     "name": "stdout",
     "output_type": "stream",
     "text": [
      "<class 'list'>\n",
      "<class 'list'>\n"
     ]
    }
   ],
   "source": [
    "#list-group of elements as one entity\n",
    "l1=[]#empty list object\n",
    "l2=[10,20,30,10,20,40.5,\"Rahul\",True,(),{},{},None]\n",
    "print(type(l1))\n",
    "print(type(l2))"
   ]
  },
  {
   "cell_type": "code",
   "execution_count": 2,
   "id": "e484a518-1a81-40c6-869d-af9bdac2a8cb",
   "metadata": {},
   "outputs": [
    {
     "name": "stdout",
     "output_type": "stream",
     "text": [
      "[0, 1, 2, 3, 4, 5, 6, 7, 8, 9]\n"
     ]
    },
    {
     "name": "stdin",
     "output_type": "stream",
     "text": [
      "enter input 10\n"
     ]
    },
    {
     "name": "stdout",
     "output_type": "stream",
     "text": [
      "['prostack', 'academy']\n"
     ]
    }
   ],
   "source": [
    "#CREATE\n",
    "l1=[]\n",
    "l2=[10,20,30,40,50]\n",
    "#we can create list using list function\n",
    "l3=list(range(10))\n",
    "print(l3)\n",
    "#using evaluate function\n",
    "l4=eval(input(\"enter input\"))\n",
    "#using string split fuction\n",
    "l5=\"prostack academy\".split()\n",
    "print(l5)"
   ]
  },
  {
   "cell_type": "code",
   "execution_count": 3,
   "id": "590f82ab-2d65-47a7-8447-24004e49c614",
   "metadata": {},
   "outputs": [
    {
     "name": "stdout",
     "output_type": "stream",
     "text": [
      "[101, 102, 103, 104, 105]\n",
      "['suni', 'bablu', 'jaivik']\n"
     ]
    }
   ],
   "source": [
    "#READ\n",
    "#we can read elements using indexing\n",
    "ids=[101,102,103,104,105]\n",
    "print(ids)\n",
    "enames=[\"suni\",\"bablu\",\"jaivik\"]\n",
    "print(enames)"
   ]
  },
  {
   "cell_type": "code",
   "execution_count": 4,
   "id": "63773821-89ea-46ec-a9af-244765dda986",
   "metadata": {},
   "outputs": [
    {
     "name": "stdout",
     "output_type": "stream",
     "text": [
      "['rahul', 'sonia', 'priyanka', 'modi', 'amit']\n",
      "['rahul', 'sonia', 'priyanka', 'modi', 'amit']\n"
     ]
    }
   ],
   "source": [
    "#using slice operator we  can read\n",
    "enames=['rahul','sonia','priyanka','modi','amit']\n",
    "new_names=enames[:]\n",
    "print(enames)\n",
    "print(new_names)"
   ]
  },
  {
   "cell_type": "code",
   "execution_count": 5,
   "id": "8e42585d-41c3-4d73-bcba-488d1fb775c5",
   "metadata": {},
   "outputs": [
    {
     "name": "stdout",
     "output_type": "stream",
     "text": [
      "rahul\n",
      "sonia\n",
      "priyanka\n",
      "modi\n",
      "amit\n"
     ]
    }
   ],
   "source": [
    "#using for and while\n",
    "for ename in enames:\n",
    "    print(ename)"
   ]
  },
  {
   "cell_type": "code",
   "execution_count": 6,
   "id": "b6a9d0aa-8217-40b3-b462-a8d7bb7f01b8",
   "metadata": {},
   "outputs": [
    {
     "name": "stdout",
     "output_type": "stream",
     "text": [
      "rahul\n",
      "sonia\n",
      "priyanka\n",
      "modi\n",
      "amit\n"
     ]
    }
   ],
   "source": [
    "i=0\n",
    "while i<=4:\n",
    "    print(enames[i])\n",
    "    i=i+1"
   ]
  },
  {
   "cell_type": "code",
   "execution_count": 8,
   "id": "9e95f771-5659-44e2-8cb7-6e04b48b6c37",
   "metadata": {},
   "outputs": [
    {
     "name": "stdout",
     "output_type": "stream",
     "text": [
      "2\n"
     ]
    }
   ],
   "source": [
    "enames=['rahul','sonia','priyanka','modi','amit','modi']\n",
    "print(enames.count('modi'))"
   ]
  },
  {
   "cell_type": "code",
   "execution_count": 10,
   "id": "1c682dd1-d132-487b-94cf-bbc7e11cc0a4",
   "metadata": {},
   "outputs": [
    {
     "name": "stdout",
     "output_type": "stream",
     "text": [
      "1\n"
     ]
    }
   ],
   "source": [
    "enames=['rahul','sonia','priyanka','modi','amit','modi']\n",
    "values=enames.index(\"sonia\")\n",
    "print(values)"
   ]
  },
  {
   "cell_type": "code",
   "execution_count": 12,
   "id": "1d5ec779-2724-4b02-8142-e34b1d1033ee",
   "metadata": {},
   "outputs": [
    {
     "name": "stdout",
     "output_type": "stream",
     "text": [
      "[101, 102, 103, 104, 105]\n"
     ]
    }
   ],
   "source": [
    "#UPDATE\n",
    "#append\n",
    "ids=[101,102,103,104]\n",
    "ids.append(105)#append-function adds elements to the end of the list\n",
    "print(ids)"
   ]
  },
  {
   "cell_type": "code",
   "execution_count": 13,
   "id": "964aec52-0030-42a1-be40-1629dd9e2d55",
   "metadata": {},
   "outputs": [
    {
     "name": "stdout",
     "output_type": "stream",
     "text": [
      "[101, 102, 103, 108, 104]\n"
     ]
    }
   ],
   "source": [
    "#insert-we can insert element at specific index\n",
    "ids=[101,102,103,104]\n",
    "ids.insert(3,108)\n",
    "print(ids)\n"
   ]
  },
  {
   "cell_type": "code",
   "execution_count": 18,
   "id": "21f86e06-585e-49b1-a68e-69b53e7a4441",
   "metadata": {},
   "outputs": [
    {
     "name": "stdout",
     "output_type": "stream",
     "text": [
      "[101, 102, 103, 104, 105, 106, 107, 108]\n"
     ]
    }
   ],
   "source": [
    "#extend()-expecting on sequence string,list,tuple,dict\n",
    "ids=[101,102,103,104,105]\n",
    "new_ids=[106,107,108]\n",
    "ids.extend(new_ids)\n",
    "print(ids)"
   ]
  },
  {
   "cell_type": "code",
   "execution_count": 15,
   "id": "fcc903e0-2931-4276-9383-97a3dcf82f28",
   "metadata": {},
   "outputs": [
    {
     "name": "stdout",
     "output_type": "stream",
     "text": [
      "satwik\n"
     ]
    }
   ],
   "source": [
    "#DELETE\n",
    "#pop-removes the last element and returns the value\n",
    "enames=[\"rahul\",\"suni\",\"srujan\",\"sanjay\",\"satwik\"]\n",
    "values=enames.pop()\n",
    "print(values)"
   ]
  },
  {
   "cell_type": "code",
   "execution_count": 16,
   "id": "d41ce838-7093-4345-88f7-36654452ddc4",
   "metadata": {},
   "outputs": [
    {
     "name": "stdout",
     "output_type": "stream",
     "text": [
      "['rahul', 'sunil']\n"
     ]
    }
   ],
   "source": [
    "#remove()-removes the specified element from the list\n",
    "names=[\"rahul\",\"sonia\",\"sunil\"]\n",
    "names.remove(\"sonia\")\n",
    "print(names)\n",
    "             "
   ]
  },
  {
   "cell_type": "code",
   "execution_count": 17,
   "id": "bdce6c1a-8cac-4487-ada7-31aa0795ac53",
   "metadata": {},
   "outputs": [
    {
     "name": "stdout",
     "output_type": "stream",
     "text": [
      "[]\n"
     ]
    }
   ],
   "source": [
    "#clear()-clears all the values from the list\n",
    "l1=[101,102,103,104]\n",
    "l1.clear()\n",
    "print (l1)"
   ]
  },
  {
   "cell_type": "code",
   "execution_count": 19,
   "id": "b83c9018-b851-4721-bcad-797777703f42",
   "metadata": {},
   "outputs": [
    {
     "name": "stdout",
     "output_type": "stream",
     "text": [
      "['ashwini', 'chetu', 'suni', 'teju']\n"
     ]
    }
   ],
   "source": [
    "#UPDATE\n",
    "#sort()-used to sort the elements by default natural sorting order\n",
    "enames=[\"suni\",\"teju\",\"chetu\",\"ashwini\"]\n",
    "enames.sort()\n",
    "print(enames)"
   ]
  },
  {
   "cell_type": "code",
   "execution_count": 20,
   "id": "1d2e20c5-4a3d-4b21-a6a4-b9e806d32f18",
   "metadata": {},
   "outputs": [
    {
     "name": "stdout",
     "output_type": "stream",
     "text": [
      "['teju', 'suni', 'chetu', 'ashwini']\n"
     ]
    }
   ],
   "source": [
    "enames=[\"suni\",\"teju\",\"chetu\",\"ashwini\"]\n",
    "enames.sort(reverse=True)#we can sort by descending order\n",
    "print(enames)"
   ]
  },
  {
   "cell_type": "code",
   "execution_count": 21,
   "id": "3e3e42cd-1ce9-425e-8541-b741ccb879c4",
   "metadata": {},
   "outputs": [
    {
     "name": "stdout",
     "output_type": "stream",
     "text": [
      "[10, 20, 30, 40, 50, 60, 70, 80]\n"
     ]
    }
   ],
   "source": [
    "#concatenate list object\n",
    "l1=[10,20,30,40]\n",
    "l2=[50,60,70,80]\n",
    "l3=l1+l2\n",
    "print(l3)"
   ]
  },
  {
   "cell_type": "code",
   "execution_count": 22,
   "id": "f025557b-2849-4425-a90b-9457e32117d9",
   "metadata": {},
   "outputs": [
    {
     "name": "stdout",
     "output_type": "stream",
     "text": [
      "[10, 20, 30, 40, 10, 20, 30, 40, 10, 20, 30, 40, 10, 20, 30, 40, 10, 20, 30, 40]\n"
     ]
    }
   ],
   "source": [
    "#repetation oflist object\n",
    "l1=[10,20,30,40]\n",
    "l2=l1*5\n",
    "print(l2)"
   ]
  },
  {
   "cell_type": "code",
   "execution_count": 23,
   "id": "7c23468c-f675-4a0f-a385-655872539dfd",
   "metadata": {},
   "outputs": [
    {
     "name": "stdout",
     "output_type": "stream",
     "text": [
      "False\n"
     ]
    }
   ],
   "source": [
    "#membership operator in list\n",
    "enames=[\"suni\",\"teju\",\"chetu\",\"ashwini\"]\n",
    "print(\"teju\" not in enames)"
   ]
  },
  {
   "cell_type": "code",
   "execution_count": 24,
   "id": "fc174f57-0689-43c7-bbfe-c65d97fff256",
   "metadata": {},
   "outputs": [
    {
     "name": "stdout",
     "output_type": "stream",
     "text": [
      "[10, 25, 30, 40]\n",
      "[10, 25, 30, 40]\n"
     ]
    }
   ],
   "source": [
    "#list aliasing\n",
    "l1=[10,20,30,40]\n",
    "l2=l1\n",
    "l1[1]=25\n",
    "print(l1)\n",
    "print(l2)"
   ]
  },
  {
   "cell_type": "code",
   "execution_count": 25,
   "id": "76bf8582-26ea-4415-9be5-8400e86b23a3",
   "metadata": {},
   "outputs": [
    {
     "name": "stdout",
     "output_type": "stream",
     "text": [
      "[10, 20, 30, 40]\n"
     ]
    }
   ],
   "source": [
    "#how to clone list object\n",
    "#copy() and slice operator[:]\n",
    "#copy-if you want to create new list\n",
    "l1=[10,20,30,40]\n",
    "l2=l1.copy()\n",
    "print(l2)"
   ]
  },
  {
   "cell_type": "code",
   "execution_count": 26,
   "id": "312878d8-6bbc-4942-b305-62b64b4e73c9",
   "metadata": {},
   "outputs": [
    {
     "name": "stdout",
     "output_type": "stream",
     "text": [
      "[10, 20, 30, 40]\n"
     ]
    }
   ],
   "source": [
    "#slice operator[:]\n",
    "l1=[10,20,30,40]\n",
    "l2=l1[:]\n",
    "print(l2)"
   ]
  },
  {
   "cell_type": "code",
   "execution_count": 28,
   "id": "109de6e5-c4c1-42df-be79-678e21977fb4",
   "metadata": {},
   "outputs": [
    {
     "name": "stdout",
     "output_type": "stream",
     "text": [
      "['priyanka', 'modi']\n"
     ]
    }
   ],
   "source": [
    "enames=[\"rahul\",\"sonia\",\"priyanka\",\"modi\",\"amith\"]\n",
    "new_names=enames[2:4]\n",
    "print(new_names)"
   ]
  },
  {
   "cell_type": "code",
   "execution_count": null,
   "id": "d978af36-aa83-40df-bb2a-460a5145231c",
   "metadata": {},
   "outputs": [],
   "source": []
  }
 ],
 "metadata": {
  "kernelspec": {
   "display_name": "Python 3 (ipykernel)",
   "language": "python",
   "name": "python3"
  },
  "language_info": {
   "codemirror_mode": {
    "name": "ipython",
    "version": 3
   },
   "file_extension": ".py",
   "mimetype": "text/x-python",
   "name": "python",
   "nbconvert_exporter": "python",
   "pygments_lexer": "ipython3",
   "version": "3.12.3"
  }
 },
 "nbformat": 4,
 "nbformat_minor": 5
}
