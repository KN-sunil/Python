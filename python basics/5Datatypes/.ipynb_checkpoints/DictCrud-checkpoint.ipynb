{
 "cells": [
  {
   "cell_type": "code",
   "execution_count": 1,
   "id": "1a0374e0-5b73-4cbe-a846-eb47eb624071",
   "metadata": {},
   "outputs": [
    {
     "name": "stdout",
     "output_type": "stream",
     "text": [
      "{}\n"
     ]
    }
   ],
   "source": [
    "#Dict-group of key value pairs as a one entity,if you want to represent mapped values go with dict-obj\n",
    "#mutable object\n",
    "#insertion order is not preserved because indexing and slicing is not applicable and also no order gaurantee\n",
    "#CREATE\n",
    "d1={}  #emptyb dict\n",
    "print(d1)"
   ]
  },
  {
   "cell_type": "code",
   "execution_count": 8,
   "id": "24ed5f02-4e66-46f0-95a2-44e25e89a742",
   "metadata": {},
   "outputs": [
    {
     "name": "stdout",
     "output_type": "stream",
     "text": [
      "{'eid': 101, 'ename': 'sunil', 'sal': 45000, 'email': 'sunil@gmail.com', 'loc': 'banglore'}\n"
     ]
    }
   ],
   "source": [
    "emp={\n",
    "    'eid':101,\n",
    "    'ename':\"sunil\",\n",
    "    'sal'  :45000,\n",
    "    'email':'sunil@gmail.com',\n",
    "    'loc'  :\"banglore\"\n",
    "}\n",
    "#READ\n",
    "print(emp)"
   ]
  },
  {
   "cell_type": "code",
   "execution_count": 13,
   "id": "7b740849-b5be-482b-a3a2-02b1cd3e6293",
   "metadata": {},
   "outputs": [
    {
     "name": "stdout",
     "output_type": "stream",
     "text": [
      "101\n"
     ]
    }
   ],
   "source": [
    "#reading values using keys-dict(keys)\n",
    "emp={\n",
    "    'eid':101,\n",
    "    'ename':\"sunil\",\n",
    "    'sal'  :45000,\n",
    "    'email':'sunil@gmail.com',\n",
    "    'loc'  :\"banglore\"\n",
    "}\n",
    "print(emp['eid'])"
   ]
  },
  {
   "cell_type": "code",
   "execution_count": 14,
   "id": "4b1c54c3-73ee-4810-8458-be92a9fa0ab3",
   "metadata": {},
   "outputs": [
    {
     "name": "stdout",
     "output_type": "stream",
     "text": [
      "sunil\n",
      "45000\n",
      "sunil@gmail.com\n",
      "banglore\n"
     ]
    }
   ],
   "source": [
    "print(emp['ename'])\n",
    "print(emp['sal'])\n",
    "print(emp['email'])\n",
    "print(emp['loc'])"
   ]
  },
  {
   "cell_type": "code",
   "execution_count": 18,
   "id": "89e6bf86-bead-46f4-a927-d640d5dff078",
   "metadata": {},
   "outputs": [
    {
     "name": "stdout",
     "output_type": "stream",
     "text": [
      "dict_keys(['eid', 'ename', 'sal', 'email', 'loc'])\n"
     ]
    }
   ],
   "source": [
    "#how to print all keys\n",
    "emp={\n",
    "    'eid':101,\n",
    "    'ename':\"sunil\",\n",
    "    'sal'  :45000,\n",
    "    'email':'sunil@gmail.com',\n",
    "    'loc'  :\"banglore\"\n",
    "}\n",
    "keys=emp.keys()\n",
    "print(keys)"
   ]
  },
  {
   "cell_type": "code",
   "execution_count": 19,
   "id": "fdbee357-387b-44d0-b493-460fde2037dd",
   "metadata": {},
   "outputs": [
    {
     "name": "stdout",
     "output_type": "stream",
     "text": [
      "eid\n",
      "ename\n",
      "sal\n",
      "email\n",
      "loc\n"
     ]
    }
   ],
   "source": [
    "# usng for loop\n",
    "emp={\n",
    "    'eid':101,\n",
    "    'ename':\"sunil\",\n",
    "    'sal'  :45000,\n",
    "    'email':'sunil@gmail.com',\n",
    "    'loc'  :\"banglore\"\n",
    "}\n",
    "for k in keys:\n",
    "    print(k)"
   ]
  },
  {
   "cell_type": "code",
   "execution_count": 20,
   "id": "c02baa04-2979-4c66-8c8f-d5e7ffb0e70e",
   "metadata": {},
   "outputs": [
    {
     "name": "stdout",
     "output_type": "stream",
     "text": [
      "dict_values([101, 'sunil', 45000, 'sunil@gmail.com', 'banglore'])\n"
     ]
    }
   ],
   "source": [
    "#how to print values\n",
    "emp={\n",
    "    'eid':101,\n",
    "    'ename':\"sunil\",\n",
    "    'sal'  :45000,\n",
    "    'email':'sunil@gmail.com',\n",
    "    'loc'  :\"banglore\"\n",
    "}\n",
    "values=emp.values()\n",
    "print(values)"
   ]
  },
  {
   "cell_type": "code",
   "execution_count": 21,
   "id": "770a8650-ba68-4339-b431-26e05bae5cb2",
   "metadata": {},
   "outputs": [
    {
     "name": "stdout",
     "output_type": "stream",
     "text": [
      "101\n",
      "sunil\n",
      "45000\n",
      "sunil@gmail.com\n",
      "banglore\n"
     ]
    }
   ],
   "source": [
    "#using for loop\n",
    "for value in values:\n",
    "    print(value)"
   ]
  },
  {
   "cell_type": "code",
   "execution_count": 22,
   "id": "d75ee19b-c2c1-436d-91fd-647e5ee294bc",
   "metadata": {},
   "outputs": [
    {
     "name": "stdout",
     "output_type": "stream",
     "text": [
      "dict_items([('eid', 101), ('ename', 'sunil'), ('sal', 45000), ('email', 'sunil@gmail.com'), ('loc', 'banglore')])\n"
     ]
    }
   ],
   "source": [
    "#how to print key+value pairs\n",
    "emp={\n",
    "    'eid':101,\n",
    "    'ename':\"sunil\",\n",
    "    'sal'  :45000,\n",
    "    'email':'sunil@gmail.com',\n",
    "    'loc'  :\"banglore\"\n",
    "}\n",
    "pairs=emp.items()\n",
    "print(pairs)"
   ]
  },
  {
   "cell_type": "code",
   "execution_count": 4,
   "id": "b3c6f477-d15e-4016-a577-46eb95933cb6",
   "metadata": {},
   "outputs": [
    {
     "name": "stdout",
     "output_type": "stream",
     "text": [
      "eid 101\n",
      "ename sunil\n",
      "sal 45000\n",
      "email sunil@gmail.com\n",
      "loc banglore\n"
     ]
    }
   ],
   "source": [
    "#using for loop\n",
    "emp={\n",
    "    'eid':101,\n",
    "    'ename':\"sunil\",\n",
    "    'sal'  :45000,\n",
    "    'email':'sunil@gmail.com',\n",
    "    'loc'  :\"banglore\",\n",
    "}\n",
    "items=emp.items()\n",
    "for key, value in items:\n",
    "    print(key,value)"
   ]
  },
  {
   "cell_type": "code",
   "execution_count": 5,
   "id": "f4799710-850a-4189-95d1-3613977d12a7",
   "metadata": {},
   "outputs": [
    {
     "name": "stdout",
     "output_type": "stream",
     "text": [
      "101\n",
      "sunil\n",
      "45000\n",
      "sunil@gmail.com\n",
      "banglore\n"
     ]
    }
   ],
   "source": [
    "#how to get all values using keys() method\n",
    "emp={\n",
    "    'eid':101,\n",
    "    'ename':\"sunil\",\n",
    "    'sal'  :45000,\n",
    "    'email':'sunil@gmail.com',\n",
    "    'loc'  :\"banglore\",\n",
    "}\n",
    "for key in emp.keys():\n",
    "    print(emp[key])"
   ]
  },
  {
   "cell_type": "code",
   "execution_count": 8,
   "id": "aa7120e2-5168-4c03-a32a-5c245aedcda5",
   "metadata": {},
   "outputs": [
    {
     "name": "stdout",
     "output_type": "stream",
     "text": [
      "eid : 101\n",
      "ename : sunil\n",
      "sal : 45000\n",
      "email : sunil@gmail.com\n",
      "loc : banglore\n"
     ]
    }
   ],
   "source": [
    "#print all keyvalue using items\n",
    "emp={\n",
    "    'eid':101,\n",
    "    'ename':\"sunil\",\n",
    "    'sal'  :45000,\n",
    "    'email':'sunil@gmail.com',\n",
    "    'loc'  :\"banglore\",\n",
    "}\n",
    "items=emp.items()\n",
    "for k,v in items:\n",
    "    print(k,\":\",v)"
   ]
  },
  {
   "cell_type": "code",
   "execution_count": 14,
   "id": "d58cc8d2-6e1c-46e3-b7b2-75321702f3c2",
   "metadata": {},
   "outputs": [
    {
     "name": "stdout",
     "output_type": "stream",
     "text": [
      "101\n",
      "sunil\n",
      "45000\n",
      "sunil@gmail.com\n",
      "banglore\n"
     ]
    }
   ],
   "source": [
    "#get()-to get value of  key\n",
    "emp={\n",
    "    'eid':101,\n",
    "    'ename':\"sunil\",\n",
    "    'esal'  :45000,\n",
    "    #'email':'sunil@gmail.com', \n",
    "    'eloc'  :\"banglore\",\n",
    "}\n",
    "print(emp.get('eid'))\n",
    "print(emp.get('ename'))\n",
    "print(emp.get('esal'))\n",
    "print(emp.get('email',\"sunil@gmail.com\")) #we can provide default values\n",
    "print(emp.get('eloc'))"
   ]
  },
  {
   "cell_type": "code",
   "execution_count": null,
   "id": "e6e4f8ac-ef45-4449-9e46-efd4c8bb1ccd",
   "metadata": {},
   "outputs": [],
   "source": []
  }
 ],
 "metadata": {
  "kernelspec": {
   "display_name": "Python 3 (ipykernel)",
   "language": "python",
   "name": "python3"
  },
  "language_info": {
   "codemirror_mode": {
    "name": "ipython",
    "version": 3
   },
   "file_extension": ".py",
   "mimetype": "text/x-python",
   "name": "python",
   "nbconvert_exporter": "python",
   "pygments_lexer": "ipython3",
   "version": "3.12.3"
  }
 },
 "nbformat": 4,
 "nbformat_minor": 5
}
