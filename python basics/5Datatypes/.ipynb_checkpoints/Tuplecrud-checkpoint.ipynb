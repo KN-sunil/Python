{
 "cells": [
  {
   "cell_type": "code",
   "execution_count": 1,
   "id": "18b85f6a-830d-4158-9367-2abc622036ed",
   "metadata": {},
   "outputs": [
    {
     "name": "stdout",
     "output_type": "stream",
     "text": [
      "()\n",
      "(10, 20)\n",
      "(10, 20, 30, False, 'suni')\n",
      "(0, 1, 2, 3, 4, 5, 6, 7, 8, 9)\n"
     ]
    }
   ],
   "source": [
    "#tuple-nothing read only version of list-itis immutable\n",
    "#CREATE\n",
    "t1=()\n",
    "t2=10,20\n",
    "t3=(10,20,30,False,\"suni\")\n",
    "t4=tuple(range(10))\n",
    "print(t1)\n",
    "print(t2)\n",
    "print(t3)\n",
    "print(t4)"
   ]
  },
  {
   "cell_type": "code",
   "execution_count": 3,
   "id": "cb6f79c0-31a3-4162-b08f-104cbbac5900",
   "metadata": {},
   "outputs": [
    {
     "name": "stdout",
     "output_type": "stream",
     "text": [
      "<class 'tuple'>\n",
      "<class 'tuple'>\n",
      "<class 'tuple'>\n",
      "<class 'tuple'>\n"
     ]
    }
   ],
   "source": [
    "t1=()\n",
    "t2=10,20\n",
    "t3=(10,20,30,False,\"suni\")\n",
    "t4=tuple(range(10))\n",
    "print(type(t1))\n",
    "print(type(t2))\n",
    "print(type(t3))\n",
    "print(type(t4))"
   ]
  },
  {
   "cell_type": "code",
   "execution_count": 4,
   "id": "04922c46-d634-45ca-9bc1-44a6ec45dda2",
   "metadata": {},
   "outputs": [
    {
     "name": "stdout",
     "output_type": "stream",
     "text": [
      "10\n",
      "20\n",
      "30\n",
      "40\n",
      "50\n"
     ]
    }
   ],
   "source": [
    "#READ-using indexing we can read tuple\n",
    "t1=(10,20,30,40,50)\n",
    "print(t1[0])\n",
    "print(t1[1])\n",
    "print(t1[2])\n",
    "print(t1[3])\n",
    "print(t1[4])\n"
   ]
  },
  {
   "cell_type": "code",
   "execution_count": 6,
   "id": "fec2ad6d-eba0-4b98-8269-e7bff91e2dd8",
   "metadata": {},
   "outputs": [
    {
     "name": "stdout",
     "output_type": "stream",
     "text": [
      "10\n",
      "20\n",
      "30\n",
      "40\n",
      "50\n",
      "60\n",
      "70\n"
     ]
    }
   ],
   "source": [
    "#we can read/iterate using for and while loop\n",
    "t1=(10,20,30,40,50,60,70)\n",
    "for ele in t1:\n",
    "    print(ele)"
   ]
  },
  {
   "cell_type": "code",
   "execution_count": 9,
   "id": "6c6bd4fd-cfa7-453e-ba9a-a7034812521e",
   "metadata": {},
   "outputs": [
    {
     "name": "stdout",
     "output_type": "stream",
     "text": [
      "10\n",
      "20\n",
      "30\n",
      "40\n",
      "50\n",
      "60\n",
      "70\n"
     ]
    }
   ],
   "source": [
    "t1=(10,20,30,40,50,60,70)\n",
    "i=0\n",
    "while i<=len(t1)-1:\n",
    "    print(t1[i])\n",
    "    i=i+1"
   ]
  },
  {
   "cell_type": "code",
   "execution_count": 10,
   "id": "6060a415-2c81-4d24-a98b-7a3a18d8ca6c",
   "metadata": {},
   "outputs": [
    {
     "name": "stdout",
     "output_type": "stream",
     "text": [
      "3\n"
     ]
    }
   ],
   "source": [
    "#delete and update operation is not possible in tuple but we can use index(),and count() method\n",
    "enames=(\"rahul\",\"sunil\",\"ganesh\",\"abhi\",\"shahsi\")\n",
    "print(enames.index(\"abhi\"))"
   ]
  },
  {
   "cell_type": "code",
   "execution_count": 13,
   "id": "268a10d4-94b2-4eba-9b3a-944407217632",
   "metadata": {},
   "outputs": [
    {
     "name": "stdout",
     "output_type": "stream",
     "text": [
      "2\n"
     ]
    }
   ],
   "source": [
    "#count\n",
    "enames=(\"rahul\",\"sunil\",\"shashi\",\"ganesh\",\"abhi\",\"shashi\")\n",
    "print(enames.count(\"shashi\"))"
   ]
  },
  {
   "cell_type": "code",
   "execution_count": null,
   "id": "52bbdeaa-b98e-46b7-818c-231489394bb0",
   "metadata": {},
   "outputs": [],
   "source": []
  },
  {
   "cell_type": "code",
   "execution_count": null,
   "id": "12bb4a10-cbf3-49ab-a103-79cc04c1fc25",
   "metadata": {},
   "outputs": [],
   "source": []
  }
 ],
 "metadata": {
  "kernelspec": {
   "display_name": "Python 3 (ipykernel)",
   "language": "python",
   "name": "python3"
  },
  "language_info": {
   "codemirror_mode": {
    "name": "ipython",
    "version": 3
   },
   "file_extension": ".py",
   "mimetype": "text/x-python",
   "name": "python",
   "nbconvert_exporter": "python",
   "pygments_lexer": "ipython3",
   "version": "3.12.3"
  }
 },
 "nbformat": 4,
 "nbformat_minor": 5
}
