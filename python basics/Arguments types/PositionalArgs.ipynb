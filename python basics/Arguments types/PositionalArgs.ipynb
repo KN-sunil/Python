{
 "cells": [
  {
   "cell_type": "code",
   "execution_count": 1,
   "id": "1cb42159-b3e1-4494-8027-a32c1023671a",
   "metadata": {},
   "outputs": [
    {
     "name": "stdout",
     "output_type": "stream",
     "text": [
      "-10\n",
      "10\n"
     ]
    }
   ],
   "source": [
    "def sub(a,b):  #positional arguments\n",
    "    print(a-b)\n",
    "sub(10,20)#actual arguments\n",
    "sub(20,10)  #if we change the positional arguments we are getting different values to resolve this we should use keyword arguments"
   ]
  },
  {
   "cell_type": "code",
   "execution_count": 2,
   "id": "79012d9f-7608-4e64-82b1-f59aa43285f2",
   "metadata": {},
   "outputs": [
    {
     "name": "stdout",
     "output_type": "stream",
     "text": [
      "30\n",
      "30\n"
     ]
    }
   ],
   "source": [
    "def add(a,b):\n",
    "    print(a+b)\n",
    "add(10,20)\n",
    "add(20,10)"
   ]
  },
  {
   "cell_type": "code",
   "execution_count": null,
   "id": "178e16e8-3e45-4f64-b197-60170b5494d6",
   "metadata": {},
   "outputs": [],
   "source": []
  }
 ],
 "metadata": {
  "kernelspec": {
   "display_name": "Python 3 (ipykernel)",
   "language": "python",
   "name": "python3"
  },
  "language_info": {
   "codemirror_mode": {
    "name": "ipython",
    "version": 3
   },
   "file_extension": ".py",
   "mimetype": "text/x-python",
   "name": "python",
   "nbconvert_exporter": "python",
   "pygments_lexer": "ipython3",
   "version": "3.12.3"
  }
 },
 "nbformat": 4,
 "nbformat_minor": 5
}
