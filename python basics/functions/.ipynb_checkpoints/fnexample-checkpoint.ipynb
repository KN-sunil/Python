{
 "cells": [
  {
   "cell_type": "code",
   "execution_count": 3,
   "id": "260e4aeb-0057-4054-acd0-db7aca592efd",
   "metadata": {},
   "outputs": [
    {
     "name": "stdout",
     "output_type": "stream",
     "text": [
      "26\n",
      "28\n"
     ]
    }
   ],
   "source": [
    "#program to calculate age\n",
    "def cal_age(year):\n",
    "    current_year=2024\n",
    "    return current_year-year\n",
    "age1=cal_age(1998)\n",
    "age2=cal_age(1996)\n",
    "print(age1)\n",
    "print(age2)"
   ]
  },
  {
   "cell_type": "code",
   "execution_count": null,
   "id": "6edf4792-e9fa-4337-9d76-9dc60d32bf85",
   "metadata": {},
   "outputs": [],
   "source": []
  }
 ],
 "metadata": {
  "kernelspec": {
   "display_name": "Python 3 (ipykernel)",
   "language": "python",
   "name": "python3"
  },
  "language_info": {
   "codemirror_mode": {
    "name": "ipython",
    "version": 3
   },
   "file_extension": ".py",
   "mimetype": "text/x-python",
   "name": "python",
   "nbconvert_exporter": "python",
   "pygments_lexer": "ipython3",
   "version": "3.12.3"
  }
 },
 "nbformat": 4,
 "nbformat_minor": 5
}
