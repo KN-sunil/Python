{
 "cells": [
  {
   "cell_type": "code",
   "execution_count": 8,
   "id": "b8f10edc-c7f0-4efb-9d1b-7f9f4879a854",
   "metadata": {},
   "outputs": [
    {
     "name": "stdout",
     "output_type": "stream",
     "text": [
      "addition\n",
      "addition\n",
      "addition\n"
     ]
    }
   ],
   "source": [
    "#functions-A group of python statements for specific task\n",
    "#main objective is code reusability\n",
    "#how to create function--using def keyword and function name and invoke the function\n",
    "def add():\n",
    "    print('addition')\n",
    "add() #we can invoke n number of times\n",
    "add()\n",
    "add()"
   ]
  },
  {
   "cell_type": "code",
   "execution_count": 11,
   "id": "2bbb9f22-3259-4c51-9ced-213be3930060",
   "metadata": {},
   "outputs": [
    {
     "name": "stdout",
     "output_type": "stream",
     "text": [
      "200\n"
     ]
    }
   ],
   "source": [
    "#function with arguments\n",
    "def multi(a,b):\n",
    "    print( a*b)\n",
    "multi(10,20)\n"
   ]
  },
  {
   "cell_type": "code",
   "execution_count": 12,
   "id": "e8eb59fa-5dc0-4d2c-a43b-938fb74f3c12",
   "metadata": {},
   "outputs": [
    {
     "name": "stdout",
     "output_type": "stream",
     "text": [
      "200\n",
      "220\n"
     ]
    }
   ],
   "source": [
    "#function with arguments and return key\n",
    "def multi(a,b):\n",
    "    return a*b\n",
    "r1=multi(10,20)\n",
    "r2=multi(11,20)\n",
    "print(r1)\n",
    "print(r2)\n"
   ]
  },
  {
   "cell_type": "code",
   "execution_count": null,
   "id": "c9c3336a-cb2c-43fe-a1eb-1f0a5d0b1392",
   "metadata": {},
   "outputs": [],
   "source": []
  }
 ],
 "metadata": {
  "kernelspec": {
   "display_name": "Python 3 (ipykernel)",
   "language": "python",
   "name": "python3"
  },
  "language_info": {
   "codemirror_mode": {
    "name": "ipython",
    "version": 3
   },
   "file_extension": ".py",
   "mimetype": "text/x-python",
   "name": "python",
   "nbconvert_exporter": "python",
   "pygments_lexer": "ipython3",
   "version": "3.12.3"
  }
 },
 "nbformat": 4,
 "nbformat_minor": 5
}
