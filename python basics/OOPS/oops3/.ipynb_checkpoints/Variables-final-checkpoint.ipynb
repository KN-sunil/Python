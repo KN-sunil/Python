{
 "cells": [
  {
   "cell_type": "code",
   "execution_count": 1,
   "id": "f684b6f0-10c9-44a9-a090-cce3bb6e0b05",
   "metadata": {},
   "outputs": [
    {
     "name": "stdout",
     "output_type": "stream",
     "text": [
      "{}\n",
      "{}\n",
      "{'__module__': '__main__', '__dict__': <attribute '__dict__' of 'Test' objects>, '__weakref__': <attribute '__weakref__' of 'Test' objects>, '__doc__': None}\n"
     ]
    }
   ],
   "source": [
    "class Test:\n",
    "    pass\n",
    "\n",
    "t1=Test()\n",
    "t2=Test()\n",
    "print(t1.__dict__)\n",
    "print(t2.__dict__)\n",
    "print(Test.__dict__)"
   ]
  },
  {
   "cell_type": "code",
   "execution_count": 4,
   "id": "653b6ee7-0c9a-41db-8cde-8bf114829977",
   "metadata": {},
   "outputs": [
    {
     "name": "stdout",
     "output_type": "stream",
     "text": [
      " Learning Variable Topics \n"
     ]
    }
   ],
   "source": [
    "class Test:\n",
    "    ''' Learning Variable Topics '''\n",
    "    pass\n",
    "\n",
    "print(Test.__doc__)"
   ]
  },
  {
   "cell_type": "code",
   "execution_count": 3,
   "id": "4e99859f-cbc9-4f03-b7a8-3d7966b42c5e",
   "metadata": {},
   "outputs": [
    {
     "name": "stdout",
     "output_type": "stream",
     "text": [
      "{'a': 100}\n",
      "{'a': 100}\n",
      "{'__module__': '__main__', '__init__': <function Test.__init__ at 0x0000022CB64485E0>, '__dict__': <attribute '__dict__' of 'Test' objects>, '__weakref__': <attribute '__weakref__' of 'Test' objects>, '__doc__': None}\n"
     ]
    }
   ],
   "source": [
    "class Test:\n",
    "    def __init__(self):\n",
    "        self.a=100\n",
    "\n",
    "\n",
    "t1=Test()\n",
    "t2=Test()\n",
    "\n",
    "print(t1.__dict__)\n",
    "print(t2.__dict__)\n",
    "print(Test.__dict__)"
   ]
  },
  {
   "cell_type": "code",
   "execution_count": 5,
   "id": "2ff63574-6f2e-4eab-bf14-dfc358583bd9",
   "metadata": {},
   "outputs": [
    {
     "name": "stdout",
     "output_type": "stream",
     "text": [
      "{'a': 100, 'b': 200}\n",
      "{'a': 100}\n",
      "{'__module__': '__main__', '__init__': <function Test.__init__ at 0x0000022CB6448A40>, 'm1': <function Test.m1 at 0x0000022CB6448900>, '__dict__': <attribute '__dict__' of 'Test' objects>, '__weakref__': <attribute '__weakref__' of 'Test' objects>, '__doc__': None}\n"
     ]
    }
   ],
   "source": [
    "class Test:\n",
    "    def __init__(self):\n",
    "        self.a=100\n",
    "    def m1(self):\n",
    "        self.b=200\n",
    "\n",
    "t1=Test()\n",
    "t1.m1()\n",
    "t2=Test()\n",
    "\n",
    "print(t1.__dict__)\n",
    "\n",
    "print(t2.__dict__)\n",
    "print(Test.__dict__)"
   ]
  },
  {
   "cell_type": "code",
   "execution_count": 6,
   "id": "da8b3344-72f7-45ec-9672-9b1dc4a936e5",
   "metadata": {},
   "outputs": [
    {
     "name": "stdout",
     "output_type": "stream",
     "text": [
      "{'a': 100, 'b': 200, 'c': 300}\n",
      "{'a': 100}\n",
      "{'__module__': '__main__', '__init__': <function Test.__init__ at 0x0000022CB64487C0>, 'm1': <function Test.m1 at 0x0000022CB6448860>, '__dict__': <attribute '__dict__' of 'Test' objects>, '__weakref__': <attribute '__weakref__' of 'Test' objects>, '__doc__': None}\n"
     ]
    }
   ],
   "source": [
    "class Test:\n",
    "    def __init__(self):\n",
    "        self.a=100\n",
    "    def m1(self):\n",
    "        self.b=200\n",
    "\n",
    "t1=Test()\n",
    "t1.m1()\n",
    "t1.c=300\n",
    "t2=Test()\n",
    "\n",
    "print(t1.__dict__)\n",
    "\n",
    "print(t2.__dict__)\n",
    "print(Test.__dict__)"
   ]
  },
  {
   "cell_type": "code",
   "execution_count": 7,
   "id": "2a2aeb2a-62fc-41e6-a794-dc7ae8944194",
   "metadata": {},
   "outputs": [
    {
     "name": "stdout",
     "output_type": "stream",
     "text": [
      "{'a': 100, 'b': 200, 'c': 300}\n",
      "{'a': 100, 'd': 400}\n",
      "{'__module__': '__main__', '__init__': <function Test.__init__ at 0x0000022CB6448400>, 'm1': <function Test.m1 at 0x0000022CB6448220>, '__dict__': <attribute '__dict__' of 'Test' objects>, '__weakref__': <attribute '__weakref__' of 'Test' objects>, '__doc__': None}\n"
     ]
    }
   ],
   "source": [
    "class Test:\n",
    "    def __init__(self):\n",
    "        self.a=100\n",
    "    def m1(self):\n",
    "        self.b=200\n",
    "\n",
    "t1=Test()\n",
    "t1.m1()\n",
    "t1.c=300\n",
    "t2=Test()\n",
    "t2.d=400\n",
    "\n",
    "print(t1.__dict__)\n",
    "\n",
    "print(t2.__dict__)\n",
    "print(Test.__dict__)"
   ]
  },
  {
   "cell_type": "code",
   "execution_count": 8,
   "id": "14010470-5c30-49b9-84b4-36092cee339d",
   "metadata": {},
   "outputs": [
    {
     "name": "stdout",
     "output_type": "stream",
     "text": [
      "{'b': 200}\n",
      "{'a': 100, 'd': 400}\n"
     ]
    }
   ],
   "source": [
    "#delete operation  - delete instance t1 - variable a.\n",
    "\n",
    "class Test:\n",
    "    def __init__(self):\n",
    "        self.a=100\n",
    "    def m1(self):\n",
    "        self.b=200\n",
    "\n",
    "t1=Test()\n",
    "t1.m1()\n",
    "t1.c=300\n",
    "t2=Test()\n",
    "t2.d=400\n",
    "\n",
    "del t1.a\n",
    "del t1.c\n",
    "\n",
    "print(t1.__dict__)\n",
    "print(t2.__dict__)"
   ]
  },
  {
   "cell_type": "code",
   "execution_count": null,
   "id": "8574ea9b-424f-4577-87d8-9c7ece0cedb9",
   "metadata": {},
   "outputs": [],
   "source": []
  }
 ],
 "metadata": {
  "kernelspec": {
   "display_name": "Python 3 (ipykernel)",
   "language": "python",
   "name": "python3"
  },
  "language_info": {
   "codemirror_mode": {
    "name": "ipython",
    "version": 3
   },
   "file_extension": ".py",
   "mimetype": "text/x-python",
   "name": "python",
   "nbconvert_exporter": "python",
   "pygments_lexer": "ipython3",
   "version": "3.12.3"
  }
 },
 "nbformat": 4,
 "nbformat_minor": 5
}
