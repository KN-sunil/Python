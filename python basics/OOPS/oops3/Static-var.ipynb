{
 "cells": [
  {
   "cell_type": "code",
   "execution_count": 1,
   "id": "ee3085a8-8141-4a04-b8bb-ad199a251795",
   "metadata": {},
   "outputs": [
    {
     "name": "stdout",
     "output_type": "stream",
     "text": [
      "{}\n",
      "{}\n",
      "{'__module__': '__main__', 'org_name': 'TCS', '__init__': <function Test.__init__ at 0x0000020431AA80E0>, 'm1': <function Test.m1 at 0x0000020431AA8540>, 'm2': <staticmethod(<function Test.m2 at 0x0000020431AA8C20>)>, '__dict__': <attribute '__dict__' of 'Test' objects>, '__weakref__': <attribute '__weakref__' of 'Test' objects>, '__doc__': None}\n"
     ]
    }
   ],
   "source": [
    "class Test:\n",
    "    \n",
    "    org_name=\"TCS\"\n",
    "    \n",
    "    def __init__(self):\n",
    "        pass\n",
    "    def m1(self):\n",
    "        pass\n",
    "    @classmethod\n",
    "    def m2(cls):\n",
    "        pass\n",
    "    @staticmethod\n",
    "    def m2():\n",
    "        pass\n",
    "\n",
    "t1=Test()\n",
    "\n",
    "t2=Test()\n",
    "\n",
    "print(t1.__dict__)\n",
    "print(t2.__dict__)\n",
    "print(Test.__dict__)"
   ]
  },
  {
   "cell_type": "code",
   "execution_count": 2,
   "id": "0c8bbc80-004c-4325-a64b-5f9c1d80b648",
   "metadata": {},
   "outputs": [
    {
     "name": "stdout",
     "output_type": "stream",
     "text": [
      "{'__module__': '__main__', '__dict__': <attribute '__dict__' of 'Employee' objects>, '__weakref__': <attribute '__weakref__' of 'Employee' objects>, '__doc__': None}\n",
      "{}\n",
      "{}\n"
     ]
    }
   ],
   "source": [
    "#What is static varaible\n",
    "'''\n",
    "  1) variables inside class, outside methods- directly\n",
    "    how to access:\n",
    "  2) inside constructor, using class name \n",
    "  3) inside instance method, using class name, \n",
    "  4) inside class method, using class name , cls \n",
    "\n",
    "  5)inside static method , using class name \n",
    "\n",
    "  6) out side a class, using class name \n",
    "'''\n",
    "class Employee:\n",
    "    pass\n",
    "\n",
    "\n",
    "e1=Employee()\n",
    "e2=Employee()\n",
    "\n",
    "print(Employee.__dict__)\n",
    "print(e1.__dict__)\n",
    "print(e2.__dict__)"
   ]
  },
  {
   "cell_type": "code",
   "execution_count": 3,
   "id": "4252d715-4cd5-4d87-9f06-0865533d4450",
   "metadata": {},
   "outputs": [
    {
     "name": "stdout",
     "output_type": "stream",
     "text": [
      "{'__module__': '__main__', '__init__': <function Employee.__init__ at 0x0000020431AA8E00>, 'm1': <function Employee.m1 at 0x0000020431AA8EA0>, 'm2': <classmethod(<function Employee.m2 at 0x0000020431AA8F40>)>, 'm3': <staticmethod(<function Employee.m3 at 0x0000020431AA8FE0>)>, '__dict__': <attribute '__dict__' of 'Employee' objects>, '__weakref__': <attribute '__weakref__' of 'Employee' objects>, '__doc__': None}\n",
      "{}\n",
      "{}\n"
     ]
    }
   ],
   "source": [
    "class Employee:\n",
    "    \n",
    "    def __init__(self):\n",
    "        pass \n",
    "    def m1(self):\n",
    "        pass\n",
    "    @classmethod\n",
    "    def m2(cls):\n",
    "        pass\n",
    "    @staticmethod\n",
    "    def m3():\n",
    "        pass\n",
    "\n",
    "\n",
    "e1=Employee()\n",
    "e2=Employee()\n",
    "\n",
    "print(Employee.__dict__)\n",
    "print(e1.__dict__)\n",
    "print(e2.__dict__)"
   ]
  },
  {
   "cell_type": "code",
   "execution_count": 8,
   "id": "04d744b7-6514-4110-9c9a-98184080e9bb",
   "metadata": {},
   "outputs": [
    {
     "name": "stdout",
     "output_type": "stream",
     "text": [
      "{'__module__': '__main__', 'org_name': 'TCS', '__init__': <function Employee.__init__ at 0x0000020431AA8EA0>, 'm1': <function Employee.m1 at 0x0000020431AA8E00>, 'm2': <classmethod(<function Employee.m2 at 0x0000020431AA8FE0>)>, 'm3': <staticmethod(<function Employee.m3 at 0x0000020431AA8F40>)>, '__dict__': <attribute '__dict__' of 'Employee' objects>, '__weakref__': <attribute '__weakref__' of 'Employee' objects>, '__doc__': None}\n",
      "{'__module__': '__main__', 'org_name': 'TCS', '__init__': <function Employee.__init__ at 0x0000020431AA8EA0>, 'm1': <function Employee.m1 at 0x0000020431AA8E00>, 'm2': <classmethod(<function Employee.m2 at 0x0000020431AA8FE0>)>, 'm3': <staticmethod(<function Employee.m3 at 0x0000020431AA8F40>)>, '__dict__': <attribute '__dict__' of 'Employee' objects>, '__weakref__': <attribute '__weakref__' of 'Employee' objects>, '__doc__': None}\n",
      "{}\n",
      "{}\n"
     ]
    }
   ],
   "source": [
    "class Employee:\n",
    "    org_name=\"TCS\"\n",
    "    \n",
    "    def __init__(self):\n",
    "        pass \n",
    "    def m1(self):\n",
    "        pass\n",
    "    @classmethod\n",
    "    def m2(cls):\n",
    "        pass\n",
    "    @staticmethod\n",
    "    def m3():\n",
    "        pass\n",
    "\n",
    "\n",
    "print(Employee.__dict__)\n",
    "\n",
    "\n",
    "e1=Employee()\n",
    "e1.m1()\n",
    "e1.m2()\n",
    "e1.m3()\n",
    "e2=Employee()\n",
    "\n",
    "print(Employee.__dict__)\n",
    "print(e1.__dict__)\n",
    "print(e2.__dict__)\n",
    "\n"
   ]
  },
  {
   "cell_type": "code",
   "execution_count": 9,
   "id": "e5216a26-1b82-4d24-a869-a78697ab87cd",
   "metadata": {},
   "outputs": [
    {
     "name": "stdout",
     "output_type": "stream",
     "text": [
      "{'__module__': '__main__', 'org_name': 'TCS', '__init__': <function Employee.__init__ at 0x0000020431AA91C0>, 'm1': <function Employee.m1 at 0x0000020431AA8D60>, 'm2': <classmethod(<function Employee.m2 at 0x0000020431AA9440>)>, 'm3': <staticmethod(<function Employee.m3 at 0x0000020431AA98A0>)>, '__dict__': <attribute '__dict__' of 'Employee' objects>, '__weakref__': <attribute '__weakref__' of 'Employee' objects>, '__doc__': None, 'discount': 10, 'loc': 'Bangalore', 'country': 'India', 'cc': 91, 'pincode': 560032, 'avail': True}\n",
      "{}\n",
      "{}\n"
     ]
    }
   ],
   "source": [
    "class Employee:\n",
    "    org_name=\"TCS\"\n",
    "    \n",
    "    def __init__(self):\n",
    "        Employee.loc = \"Bangalore\"\n",
    "    def m1(self):\n",
    "        Employee.country=\"India\"\n",
    "    @classmethod\n",
    "    def m2(cls):\n",
    "        Employee.cc = 91\n",
    "        cls.pincode = 560032\n",
    "    @staticmethod\n",
    "    def m3():\n",
    "        Employee.avail=True\n",
    "\n",
    "\n",
    "\n",
    "Employee.discount=10\n",
    "\n",
    "e1=Employee()\n",
    "e1.m1()\n",
    "e1.m2()\n",
    "e1.m3()\n",
    "\n",
    "print(Employee.__dict__)\n",
    "print(e1.__dict__)\n",
    "\n",
    "e2=Employee()\n",
    "\n",
    "print(e2.__dict__)"
   ]
  },
  {
   "cell_type": "code",
   "execution_count": null,
   "id": "c109f686-9c0f-4a12-b688-c6848a5a5585",
   "metadata": {},
   "outputs": [],
   "source": []
  }
 ],
 "metadata": {
  "kernelspec": {
   "display_name": "Python 3 (ipykernel)",
   "language": "python",
   "name": "python3"
  },
  "language_info": {
   "codemirror_mode": {
    "name": "ipython",
    "version": 3
   },
   "file_extension": ".py",
   "mimetype": "text/x-python",
   "name": "python",
   "nbconvert_exporter": "python",
   "pygments_lexer": "ipython3",
   "version": "3.12.3"
  }
 },
 "nbformat": 4,
 "nbformat_minor": 5
}
