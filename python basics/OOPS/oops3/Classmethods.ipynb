{
 "cells": [
  {
   "cell_type": "code",
   "execution_count": 4,
   "id": "d00c7345-9676-4d44-8259-0a6e6727ec63",
   "metadata": {},
   "outputs": [
    {
     "name": "stdout",
     "output_type": "stream",
     "text": [
      "{}\n",
      "{}\n",
      "{}\n",
      "{'eid': 101}\n",
      "{'eid': 102}\n",
      "{'eid': 103}\n",
      "101\n",
      "102\n",
      "103\n"
     ]
    }
   ],
   "source": [
    "class Employee:\n",
    "    def set_eid(self,id):\n",
    "        self.eid=id\n",
    "    def get_eid(self):\n",
    "        return self.eid\n",
    "        \n",
    "e1=Employee()\n",
    "e2=Employee()\n",
    "e3=Employee()\n",
    "\n",
    "print(e1.__dict__)\n",
    "print(e2.__dict__)\n",
    "print(e3.__dict__)\n",
    "\n",
    "e1.set_eid(101)\n",
    "e2.set_eid(102)\n",
    "e3.set_eid(103)\n",
    "\n",
    "print(e1.__dict__)\n",
    "print(e2.__dict__)\n",
    "print(e3.__dict__)\n",
    "\n",
    "print(e1.get_eid())\n",
    "print(e2.get_eid())\n",
    "print(e3.get_eid())"
   ]
  },
  {
   "cell_type": "code",
   "execution_count": 5,
   "id": "1f59c369-45de-4981-8484-b8968de0cca1",
   "metadata": {},
   "outputs": [
    {
     "name": "stdout",
     "output_type": "stream",
     "text": [
      "{}\n",
      "{}\n",
      "{}\n",
      "{'__module__': '__main__', 'min_bal': 500, '__dict__': <attribute '__dict__' of 'Account' objects>, '__weakref__': <attribute '__weakref__' of 'Account' objects>, '__doc__': None}\n"
     ]
    }
   ],
   "source": [
    "class Account:\n",
    "    min_bal=500  #static variable \n",
    "\n",
    "a1=Account()\n",
    "a2=Account()\n",
    "a3=Account()\n",
    "\n",
    "print(a1.__dict__)\n",
    "print(a2.__dict__)\n",
    "print(a3.__dict__)\n",
    "\n",
    "print(Account.__dict__)"
   ]
  },
  {
   "cell_type": "code",
   "execution_count": 6,
   "id": "c8592651-47e0-459d-8571-c9f36e2f83e3",
   "metadata": {},
   "outputs": [
    {
     "name": "stdout",
     "output_type": "stream",
     "text": [
      "500\n",
      "600\n"
     ]
    }
   ],
   "source": [
    "class Account:\n",
    "    min_bal=500  #static variable \n",
    "\n",
    "    @classmethod\n",
    "    def update_min_bal(cls,amount):\n",
    "        cls.min_bal=amount\n",
    "\n",
    "\n",
    "print(Account.min_bal)  #accessing using class name\n",
    "Account.update_min_bal(600)\n",
    "print(Account.min_bal)"
   ]
  },
  {
   "cell_type": "code",
   "execution_count": 8,
   "id": "225c9230-b4b3-4dc7-b0c2-aedb89f37e16",
   "metadata": {},
   "outputs": [
    {
     "name": "stdout",
     "output_type": "stream",
     "text": [
      "1\n",
      "1\n"
     ]
    }
   ],
   "source": [
    "class Test:\n",
    "    count=0        #static variable\n",
    "    def __init__(self):\n",
    "        Test.count= Test.count+1\n",
    "    @classmethod\n",
    "    def get_noObject(cls):\n",
    "        return cls.count\n",
    "        \n",
    "\n",
    "Test()\n",
    "Test()\n",
    "Test()\n",
    "Test()\n",
    "Test()\n",
    "print(Test.count)\n",
    "print(Test.get_noObject())"
   ]
  },
  {
   "cell_type": "code",
   "execution_count": 9,
   "id": "0817564e-0c7c-4d68-a553-9508dd958acc",
   "metadata": {},
   "outputs": [
    {
     "name": "stdout",
     "output_type": "stream",
     "text": [
      "110\n",
      "90\n",
      "1000\n",
      "10.0\n"
     ]
    }
   ],
   "source": [
    "class Calc:\n",
    "    def m1(self):\n",
    "        pass\n",
    "    @classmethod\n",
    "    def m2(cls):\n",
    "        pass\n",
    "    @staticmethod    \n",
    "    def addition(a,b):\n",
    "        return a+b\n",
    "    @staticmethod\n",
    "    def sub(a,b):\n",
    "        return a-b\n",
    "    @staticmethod\n",
    "    def multi(a,b):\n",
    "        return a*b\n",
    "    @staticmethod\n",
    "    def div(a,b):\n",
    "        return a/b\n",
    "\n",
    "c1=Calc()\n",
    "print(c1.addition(100,10))\n",
    "print(c1.sub(100,10))\n",
    "print(c1.multi(100,10))\n",
    "print(c1.div(100,10))"
   ]
  },
  {
   "cell_type": "code",
   "execution_count": null,
   "id": "e29c2701-1581-4de5-b01c-023a35e6e6a6",
   "metadata": {},
   "outputs": [],
   "source": []
  }
 ],
 "metadata": {
  "kernelspec": {
   "display_name": "Python 3 (ipykernel)",
   "language": "python",
   "name": "python3"
  },
  "language_info": {
   "codemirror_mode": {
    "name": "ipython",
    "version": 3
   },
   "file_extension": ".py",
   "mimetype": "text/x-python",
   "name": "python",
   "nbconvert_exporter": "python",
   "pygments_lexer": "ipython3",
   "version": "3.12.3"
  }
 },
 "nbformat": 4,
 "nbformat_minor": 5
}
