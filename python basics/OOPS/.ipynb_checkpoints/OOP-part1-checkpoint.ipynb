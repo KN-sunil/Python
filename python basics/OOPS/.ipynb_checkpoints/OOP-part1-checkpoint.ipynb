{
 "cells": [
  {
   "cell_type": "code",
   "execution_count": 1,
   "id": "36f52a94-4a4e-4d16-9d92-748f7c9b9d6f",
   "metadata": {},
   "outputs": [
    {
     "data": {
      "text/plain": [
       "<__main__.emp at 0x174678eec00>"
      ]
     },
     "execution_count": 1,
     "metadata": {},
     "output_type": "execute_result"
    }
   ],
   "source": [
    "#opp-obejct  oriented programming is a programming paradigm to that uses object and classes in programming\n",
    "#features-abstraction,inheritence,polymorphism,encapsualtion\n",
    "\n",
    "\n",
    "#once object is created,memory location will be allocated \n",
    "\n",
    "class emp:\n",
    "    pass\n",
    "\n",
    "emp()"
   ]
  },
  {
   "cell_type": "code",
   "execution_count": 2,
   "id": "dd85f0f3-d375-4add-b6f2-44cc3e289a74",
   "metadata": {},
   "outputs": [
    {
     "name": "stdout",
     "output_type": "stream",
     "text": [
      "<__main__.Emp object at 0x00000174678A2B10>\n",
      "<__main__.Emp object at 0x00000174678A2AB0>\n",
      "<__main__.Emp object at 0x00000174678A2DB0>\n"
     ]
    }
   ],
   "source": [
    "class Emp:\n",
    "    pass\n",
    "\n",
    "\n",
    "\n",
    "e1=Emp()\n",
    "e2=Emp()\n",
    "e3=Emp()\n",
    "print(e1)\n",
    "print(e2)\n",
    "print(e3)"
   ]
  },
  {
   "cell_type": "code",
   "execution_count": 3,
   "id": "ec1a99c3-423b-4691-8d31-5828547e2d1e",
   "metadata": {},
   "outputs": [
    {
     "name": "stdout",
     "output_type": "stream",
     "text": [
      "1599465257392\n",
      "1599464942352\n",
      "1599464942256\n"
     ]
    }
   ],
   "source": [
    "class Emp:\n",
    "    pass\n",
    "\n",
    "e1=Emp()\n",
    "e2=Emp()\n",
    "e3=Emp()\n",
    "\n",
    "\n",
    "print(id(e1))\n",
    "print(id(e2))\n",
    "print(id(e3))"
   ]
  },
  {
   "cell_type": "code",
   "execution_count": 4,
   "id": "1a3def7f-9b7b-4f5d-9c32-34ba3ce0c90d",
   "metadata": {},
   "outputs": [
    {
     "name": "stdout",
     "output_type": "stream",
     "text": [
      "10\n",
      "Rahul\n",
      "<__main__.Emp object at 0x00000174679047D0>\n"
     ]
    }
   ],
   "source": [
    "a=10\n",
    "ename=\"Rahul\"\n",
    "\n",
    "class Emp:\n",
    "    pass\n",
    "\n",
    "e1=Emp()\n",
    "\n",
    "print(a)\n",
    "print(ename)\n",
    "print(e1)"
   ]
  },
  {
   "cell_type": "code",
   "execution_count": 5,
   "id": "d55839d0-fc86-4283-88ab-df74e8d3e139",
   "metadata": {},
   "outputs": [
    {
     "name": "stdout",
     "output_type": "stream",
     "text": [
      "<class 'int'>\n",
      "<class 'str'>\n",
      "<class '__main__.Emp'>\n"
     ]
    }
   ],
   "source": [
    "a=10\n",
    "ename=\"rahul\"\n",
    "\n",
    "class Emp:\n",
    "    pass\n",
    "\n",
    "e1=Emp()\n",
    "print(type(a))\n",
    "print(type(ename))\n",
    "print(type(e1))"
   ]
  },
  {
   "cell_type": "code",
   "execution_count": 6,
   "id": "3f3abe65-fc58-46e0-ab9e-b9fb6a68ca35",
   "metadata": {},
   "outputs": [
    {
     "name": "stdout",
     "output_type": "stream",
     "text": [
      "<__main__.Account object at 0x0000017467904F50>\n",
      "1599465344848\n",
      "<class '__main__.Account'>\n"
     ]
    }
   ],
   "source": [
    "class Account:\n",
    "    pass\n",
    "\n",
    "a1=Account()\n",
    "a2=Account()\n",
    "\n",
    "print(a1)\n",
    "print(id(a1))\n",
    "print(type(a1))"
   ]
  },
  {
   "cell_type": "code",
   "execution_count": 10,
   "id": "3948d680-544d-44c1-bd6d-2f52f758eeaa",
   "metadata": {},
   "outputs": [
    {
     "data": {
      "text/plain": [
       "<__main__.account at 0x174678ef260>"
      ]
     },
     "execution_count": 10,
     "metadata": {},
     "output_type": "execute_result"
    }
   ],
   "source": [
    "class account:\n",
    "    pass\n",
    "    #contains variables and methods\n",
    "account()    "
   ]
  },
  {
   "cell_type": "code",
   "execution_count": 11,
   "id": "314f7059-027a-45af-8f88-9967c89e57fb",
   "metadata": {},
   "outputs": [
    {
     "name": "stdout",
     "output_type": "stream",
     "text": [
      "<__main__.Account object at 0x0000017467A4E840>\n",
      "1599466694720\n",
      "<class '__main__.Account'>\n",
      "{}\n"
     ]
    }
   ],
   "source": [
    "class Account:\n",
    "    min_bal=500\n",
    "\n",
    "a1=Account()\n",
    "print(a1)\n",
    "print(id(a1))\n",
    "print(type(a1))\n",
    "print(a1.__dict__)"
   ]
  },
  {
   "cell_type": "code",
   "execution_count": 12,
   "id": "4446d473-8429-48a0-984e-b5792fd63efe",
   "metadata": {},
   "outputs": [
    {
     "name": "stdout",
     "output_type": "stream",
     "text": [
      "{}\n",
      "{'__module__': '__main__', 'min_bal': 500, '__dict__': <attribute '__dict__' of 'Account' objects>, '__weakref__': <attribute '__weakref__' of 'Account' objects>, '__doc__': None}\n"
     ]
    }
   ],
   "source": [
    "class Account:\n",
    "    min_bal=500\n",
    "\n",
    "a1=Account()\n",
    "\n",
    "print(a1.__dict__)\n",
    "print(Account.__dict__) #used to know about what object  contains\n"
   ]
  },
  {
   "cell_type": "code",
   "execution_count": 13,
   "id": "a7559124-2714-4b35-b301-154dac1b0144",
   "metadata": {},
   "outputs": [
    {
     "name": "stdout",
     "output_type": "stream",
     "text": [
      "{'__module__': '__main__', 'eid': 101, 'ename': 'Rahul', 'esal': 45000, '__dict__': <attribute '__dict__' of 'Employee' objects>, '__weakref__': <attribute '__weakref__' of 'Employee' objects>, '__doc__': None}\n"
     ]
    }
   ],
   "source": [
    "class Employee:\n",
    "    eid=101\n",
    "    ename=\"Rahul\"\n",
    "    esal=45000\n",
    "\n",
    "\n",
    "e1=Employee()\n",
    "print(Employee.__dict__)"
   ]
  },
  {
   "cell_type": "code",
   "execution_count": null,
   "id": "ed7823fb-56c0-491f-a78a-80ffc42e70e4",
   "metadata": {},
   "outputs": [],
   "source": []
  }
 ],
 "metadata": {
  "kernelspec": {
   "display_name": "Python 3 (ipykernel)",
   "language": "python",
   "name": "python3"
  },
  "language_info": {
   "codemirror_mode": {
    "name": "ipython",
    "version": 3
   },
   "file_extension": ".py",
   "mimetype": "text/x-python",
   "name": "python",
   "nbconvert_exporter": "python",
   "pygments_lexer": "ipython3",
   "version": "3.12.3"
  }
 },
 "nbformat": 4,
 "nbformat_minor": 5
}
