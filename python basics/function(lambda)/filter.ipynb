{
 "cells": [
  {
   "cell_type": "code",
   "execution_count": 3,
   "id": "747cec2f-9d6c-4812-84fb-2c6fdb3f1986",
   "metadata": {},
   "outputs": [
    {
     "name": "stdout",
     "output_type": "stream",
     "text": [
      "[29, 499, 99, 9, 299]\n"
     ]
    }
   ],
   "source": [
    "'''\n",
    "Filter-executes the provided function for every element present in sequence\n",
    "when to use-to filter the elements /values from the given sequence based on given condition\n",
    "\n",
    "syntax:filter(function(normal or lambda),iterable obj/sequence)\n",
    "'''\n",
    "product_prices=[999,29,499,99,9,899,1999,299]\n",
    "filter_obj=filter(lambda price:price<500,product_prices)\n",
    "new_prices=list(filter_obj)\n",
    "print(new_prices)"
   ]
  },
  {
   "cell_type": "code",
   "execution_count": 6,
   "id": "07b521bc-5dc9-4ee6-8629-b2bc2996e210",
   "metadata": {},
   "outputs": [
    {
     "name": "stdout",
     "output_type": "stream",
     "text": [
      "[29, 499, 99, 9, 299]\n"
     ]
    }
   ],
   "source": [
    "#using normal function\n",
    "prices=[999,29,499,99,9,899,1999,299]\n",
    "def product_price(price):\n",
    "    return price<500\n",
    "map_obj=filter(product_price,prices)  \n",
    "new_prices=list(map_obj)\n",
    "print(new_prices)"
   ]
  },
  {
   "cell_type": "code",
   "execution_count": null,
   "id": "5241d25a-ae08-4edc-bc8e-2ae613213fac",
   "metadata": {},
   "outputs": [],
   "source": [
    "\n"
   ]
  }
 ],
 "metadata": {
  "kernelspec": {
   "display_name": "Python 3 (ipykernel)",
   "language": "python",
   "name": "python3"
  },
  "language_info": {
   "codemirror_mode": {
    "name": "ipython",
    "version": 3
   },
   "file_extension": ".py",
   "mimetype": "text/x-python",
   "name": "python",
   "nbconvert_exporter": "python",
   "pygments_lexer": "ipython3",
   "version": "3.12.3"
  }
 },
 "nbformat": 4,
 "nbformat_minor": 5
}
