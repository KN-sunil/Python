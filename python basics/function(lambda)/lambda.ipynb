{
 "cells": [
  {
   "cell_type": "code",
   "execution_count": 2,
   "id": "4955fe55-2e80-4a69-b6b0-4163f3b5d759",
   "metadata": {},
   "outputs": [
    {
     "name": "stdout",
     "output_type": "stream",
     "text": [
      "30\n"
     ]
    }
   ],
   "source": [
    "'''\n",
    "lambda-used to create anonymous function or nameless function(no name,no return statement,no def keyword)\n",
    "-only arguments and expressions required\n",
    "-for instant use on we use lambda\n",
    "'''\n",
    "def add(a,b):\n",
    "    return a+b\n",
    "r1=add(10,20)\n",
    "print(r1)"
   ]
  },
  {
   "cell_type": "code",
   "execution_count": 4,
   "id": "dbe57722-4f18-429a-913f-c6bf3b0e77ca",
   "metadata": {},
   "outputs": [
    {
     "name": "stdout",
     "output_type": "stream",
     "text": [
      "30\n"
     ]
    }
   ],
   "source": [
    "#to execute lambda function variable name is required\n",
    "add=lambda a,b:a+b\n",
    "print(add(10,20))"
   ]
  },
  {
   "cell_type": "code",
   "execution_count": 6,
   "id": "73593fab-3636-4dc9-9456-8ef490c8a105",
   "metadata": {},
   "outputs": [
    {
     "name": "stdout",
     "output_type": "stream",
     "text": [
      "26\n"
     ]
    }
   ],
   "source": [
    "def cal_age(year):\n",
    "    return 2024-year\n",
    "age=cal_age(1998)\n",
    "print(age)"
   ]
  },
  {
   "cell_type": "code",
   "execution_count": 9,
   "id": "8c2de7db-6014-4418-9f56-3963c2baea84",
   "metadata": {},
   "outputs": [
    {
     "name": "stdout",
     "output_type": "stream",
     "text": [
      "26\n"
     ]
    }
   ],
   "source": [
    "#using lambda\n",
    "cal_age=lambda year:2024-year\n",
    "age=cal_age(1998)\n",
    "print(age)"
   ]
  },
  {
   "cell_type": "code",
   "execution_count": 10,
   "id": "67215a57-30f5-457f-879c-2f7c7b0e3900",
   "metadata": {},
   "outputs": [
    {
     "name": "stdout",
     "output_type": "stream",
     "text": [
      "100\n"
     ]
    }
   ],
   "source": [
    "def sqrt(num):\n",
    "    return num*num\n",
    "print(sqrt(10))    "
   ]
  },
  {
   "cell_type": "code",
   "execution_count": 11,
   "id": "bd1848c5-82e3-48e2-864e-6152630c2aae",
   "metadata": {},
   "outputs": [
    {
     "name": "stdout",
     "output_type": "stream",
     "text": [
      "100\n"
     ]
    }
   ],
   "source": [
    "#using lambda\n",
    "sqrt=lambda num:num*num\n",
    "print(sqrt(10))"
   ]
  },
  {
   "cell_type": "code",
   "execution_count": null,
   "id": "447928c6-71ff-4cd1-abe8-0b7109fc4d48",
   "metadata": {},
   "outputs": [],
   "source": []
  }
 ],
 "metadata": {
  "kernelspec": {
   "display_name": "Python 3 (ipykernel)",
   "language": "python",
   "name": "python3"
  },
  "language_info": {
   "codemirror_mode": {
    "name": "ipython",
    "version": 3
   },
   "file_extension": ".py",
   "mimetype": "text/x-python",
   "name": "python",
   "nbconvert_exporter": "python",
   "pygments_lexer": "ipython3",
   "version": "3.12.3"
  }
 },
 "nbformat": 4,
 "nbformat_minor": 5
}
