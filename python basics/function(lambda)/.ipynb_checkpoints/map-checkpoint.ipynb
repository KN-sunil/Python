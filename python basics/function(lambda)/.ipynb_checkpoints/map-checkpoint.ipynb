{
 "cells": [
  {
   "cell_type": "code",
   "execution_count": 5,
   "id": "d489a876-197f-444c-87fc-b2c7990d7f1b",
   "metadata": {},
   "outputs": [
    {
     "name": "stdout",
     "output_type": "stream",
     "text": [
      "[36, 37, 38, 39, 40]\n"
     ]
    }
   ],
   "source": [
    "'''MAP()-executes the function for every element in a function\n",
    "-map() expecting 2 agrs *function(normal or lambda) *squence((),[],{},string,range)\n",
    "'''\n",
    "marks=[35,36,37,38,39]\n",
    "def addonemark(mark):\n",
    "    return mark+1\n",
    "result_map=map(addonemark,marks)  \n",
    "new_marks=list(result_map)\n",
    "print(new_marks)\n",
    "    \n",
    "    "
   ]
  },
  {
   "cell_type": "code",
   "execution_count": 7,
   "id": "7441cf40-d8d3-4ad7-a1f1-95d42b536efa",
   "metadata": {},
   "outputs": [
    {
     "name": "stdout",
     "output_type": "stream",
     "text": [
      "[36, 37, 38, 39, 40]\n"
     ]
    }
   ],
   "source": [
    "#using lambda\n",
    "marks=[35,36,37,38,39]\n",
    "result=map(lambda mark:mark+1,marks)\n",
    "print(list(result))"
   ]
  },
  {
   "cell_type": "code",
   "execution_count": 8,
   "id": "dd84b78d-236c-4a4a-9099-c6b56e3e0e67",
   "metadata": {},
   "outputs": [
    {
     "name": "stdout",
     "output_type": "stream",
     "text": [
      "[36, 37, 38, 39, 40]\n"
     ]
    }
   ],
   "source": [
    "#we can write in one line\n",
    "print(list(map(lambda mark:mark+1,marks)))"
   ]
  },
  {
   "cell_type": "code",
   "execution_count": 11,
   "id": "69e52a73-2553-4541-aeba-382551980d86",
   "metadata": {},
   "outputs": [
    {
     "name": "stdout",
     "output_type": "stream",
     "text": [
      "['RAHUL', 'SONIA', 'PRIYA']\n"
     ]
    }
   ],
   "source": [
    "enames=['rahul','sonia','priya']\n",
    "def uppercase(name):\n",
    "    return name.upper()\n",
    "map_ref=map(uppercase,enames)\n",
    "new_names=list(map_ref)\n",
    "print(new_names)"
   ]
  },
  {
   "cell_type": "code",
   "execution_count": 12,
   "id": "e7d465ae-dda0-4871-8760-ea1b67b6fd07",
   "metadata": {},
   "outputs": [
    {
     "name": "stdout",
     "output_type": "stream",
     "text": [
      "[20, 40, 60, 80, 100]\n"
     ]
    }
   ],
   "source": [
    "numbers=[10,20,30,40,50]\n",
    "new_num=list(map(lambda num:num*2,numbers))\n",
    "print(new_num)\n"
   ]
  },
  {
   "cell_type": "code",
   "execution_count": 16,
   "id": "57d6776b-797f-4a68-b022-7b1ed3d9986f",
   "metadata": {},
   "outputs": [
    {
     "name": "stdout",
     "output_type": "stream",
     "text": [
      "[20, 40, 60, 80, 100]\n"
     ]
    }
   ],
   "source": [
    "#normal function\n",
    "numbers=[10,20,30,40,50]\n",
    "def doubleit(num):\n",
    "    return num*2\n",
    "new_num=list(map(doubleit,numbers))\n",
    "print(new_num)"
   ]
  },
  {
   "cell_type": "code",
   "execution_count": null,
   "id": "25836261-c595-4626-9f25-8460a3ec1202",
   "metadata": {},
   "outputs": [],
   "source": []
  }
 ],
 "metadata": {
  "kernelspec": {
   "display_name": "Python 3 (ipykernel)",
   "language": "python",
   "name": "python3"
  },
  "language_info": {
   "codemirror_mode": {
    "name": "ipython",
    "version": 3
   },
   "file_extension": ".py",
   "mimetype": "text/x-python",
   "name": "python",
   "nbconvert_exporter": "python",
   "pygments_lexer": "ipython3",
   "version": "3.12.3"
  }
 },
 "nbformat": 4,
 "nbformat_minor": 5
}
