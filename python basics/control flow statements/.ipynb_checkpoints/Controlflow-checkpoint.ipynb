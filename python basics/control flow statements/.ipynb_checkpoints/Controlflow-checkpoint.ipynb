{
 "cells": [
  {
   "cell_type": "code",
   "execution_count": 1,
   "id": "c1c466a5-f52e-4967-b00a-971b47bf87b8",
   "metadata": {},
   "outputs": [
    {
     "name": "stdin",
     "output_type": "stream",
     "text": [
      "enter salary: 555000\n"
     ]
    },
    {
     "name": "stdout",
     "output_type": "stream",
     "text": [
      "eligible for marraige\n"
     ]
    }
   ],
   "source": [
    "#control flow statements-python program execution occurs on based on condition and iterative statements\n",
    "#conditional statements-if,if else ,if elif else\n",
    "sal=int(input(\"enter salary:\"))\n",
    "if sal>40000:\n",
    "    print(\"eligible for marraige\")\n",
    "\n"
   ]
  },
  {
   "cell_type": "code",
   "execution_count": 2,
   "id": "1d019883-dc11-4d33-aa3f-6697bfb3197f",
   "metadata": {},
   "outputs": [
    {
     "name": "stdin",
     "output_type": "stream",
     "text": [
      "enter salary: 25000\n"
     ]
    },
    {
     "name": "stdout",
     "output_type": "stream",
     "text": [
      "not eligible for marriage\n"
     ]
    }
   ],
   "source": [
    "salary=int(input(\"enter salary:\"))\n",
    "if salary>50000:\n",
    "    print(\"eligible for marraige\")\n",
    "else:\n",
    "    print(\"not eligible for marriage\")"
   ]
  },
  {
   "cell_type": "code",
   "execution_count": 4,
   "id": "0d2d7f16-365e-4ae2-ba1b-d596356c5310",
   "metadata": {},
   "outputs": [
    {
     "name": "stdin",
     "output_type": "stream",
     "text": [
      "enter the number 3\n"
     ]
    },
    {
     "name": "stdout",
     "output_type": "stream",
     "text": [
      "Odd number\n"
     ]
    }
   ],
   "source": [
    "#program to find given number is even or not\n",
    "num=int(input(\"enter the number\"))\n",
    "if num%2==0:\n",
    "    print(\"Even number\")\n",
    "else:\n",
    "    print(\"Odd number\")"
   ]
  },
  {
   "cell_type": "code",
   "execution_count": 6,
   "id": "7ad20527-b8e7-4b07-a4c2-1782f13e471e",
   "metadata": {},
   "outputs": [
    {
     "name": "stdin",
     "output_type": "stream",
     "text": [
      "enter a number 255\n"
     ]
    },
    {
     "name": "stdout",
     "output_type": "stream",
     "text": [
      "given number is 3 digit number\n"
     ]
    }
   ],
   "source": [
    "#program to check given number is 3 digit or not\n",
    "num=int(input(\"enter a number\"))\n",
    "if num>100 and num<999:\n",
    "    print(\"given number is 3 digit number\")\n",
    "else:\n",
    "    print(\"not a 3 digit number\")"
   ]
  },
  {
   "cell_type": "code",
   "execution_count": 7,
   "id": "e71d167c-84b8-48a7-af96-c54a1a617334",
   "metadata": {},
   "outputs": [],
   "source": [
    "#iterative statements-iterating in sequence and getting element\n",
    "#for,while\n"
   ]
  },
  {
   "cell_type": "code",
   "execution_count": 8,
   "id": "4518cf6e-da3a-466c-9d26-ec4158eff711",
   "metadata": {},
   "outputs": [
    {
     "name": "stdout",
     "output_type": "stream",
     "text": [
      "1\n",
      "2\n",
      "3\n",
      "4\n",
      "5\n",
      "6\n",
      "7\n",
      "8\n",
      "9\n",
      "10\n"
     ]
    }
   ],
   "source": [
    "for ele in range(1,11):\n",
    "    print(ele)"
   ]
  },
  {
   "cell_type": "code",
   "execution_count": 9,
   "id": "da656159-f4e6-4db8-b99e-5380c9fa276e",
   "metadata": {},
   "outputs": [
    {
     "name": "stdout",
     "output_type": "stream",
     "text": [
      "0\n",
      "2\n",
      "4\n",
      "6\n",
      "8\n",
      "10\n",
      "12\n",
      "14\n",
      "16\n",
      "18\n"
     ]
    }
   ],
   "source": [
    "#print first10 even numbers\n",
    "for num in range(0,19,2):\n",
    "    print(num)"
   ]
  },
  {
   "cell_type": "code",
   "execution_count": 10,
   "id": "cde47911-91f4-41eb-ba9a-7d4d6485239d",
   "metadata": {},
   "outputs": [
    {
     "name": "stdout",
     "output_type": "stream",
     "text": [
      "s\n",
      "u\n",
      "n\n",
      "i\n",
      "l\n",
      "A\n",
      "c\n",
      "h\n",
      "a\n",
      "r\n",
      "y\n",
      "a\n"
     ]
    }
   ],
   "source": [
    "for ch in \"sunilAcharya\":\n",
    "    print(ch)"
   ]
  },
  {
   "cell_type": "code",
   "execution_count": 11,
   "id": "155957c6-aa44-4732-8536-73456b37f71e",
   "metadata": {},
   "outputs": [
    {
     "name": "stdout",
     "output_type": "stream",
     "text": [
      "101\n",
      "102\n",
      "103\n",
      "104\n",
      "105\n"
     ]
    }
   ],
   "source": [
    "ids={101,102,103,104,105}\n",
    "for id in ids:                \n",
    "    print(id)                   #because of set no order gaurentee"
   ]
  },
  {
   "cell_type": "code",
   "execution_count": 12,
   "id": "ee447ec3-2c27-47d8-ab92-29813c3dc238",
   "metadata": {},
   "outputs": [
    {
     "name": "stdout",
     "output_type": "stream",
     "text": [
      "101\n",
      "102\n",
      "103\n",
      "104\n",
      "105\n"
     ]
    }
   ],
   "source": [
    "ids=[101,102,103,104,105]\n",
    "for id in ids:\n",
    "    print(id)"
   ]
  },
  {
   "cell_type": "code",
   "execution_count": 13,
   "id": "e7d63fea-1df9-46ed-a6a8-b8d1356b71e5",
   "metadata": {},
   "outputs": [
    {
     "name": "stdout",
     "output_type": "stream",
     "text": [
      "sunil\n",
      "sonia\n",
      "rahul\n",
      "priyanka\n"
     ]
    }
   ],
   "source": [
    "enames=(\"sunil\",\"sonia\",\"rahul\",\"priyanka\")\n",
    "for name in enames:\n",
    "    print(name)"
   ]
  },
  {
   "cell_type": "code",
   "execution_count": null,
   "id": "75de3694-c54c-4ff4-a41d-ca7ee0482b55",
   "metadata": {},
   "outputs": [],
   "source": []
  }
 ],
 "metadata": {
  "kernelspec": {
   "display_name": "Python 3 (ipykernel)",
   "language": "python",
   "name": "python3"
  },
  "language_info": {
   "codemirror_mode": {
    "name": "ipython",
    "version": 3
   },
   "file_extension": ".py",
   "mimetype": "text/x-python",
   "name": "python",
   "nbconvert_exporter": "python",
   "pygments_lexer": "ipython3",
   "version": "3.12.3"
  }
 },
 "nbformat": 4,
 "nbformat_minor": 5
}
