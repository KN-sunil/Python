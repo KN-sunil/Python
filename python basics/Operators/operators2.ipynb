{
 "cells": [
  {
   "cell_type": "code",
   "execution_count": 1,
   "id": "b325eb95-e5ce-4dc7-b0a0-bae240f8cc26",
   "metadata": {},
   "outputs": [
    {
     "name": "stdout",
     "output_type": "stream",
     "text": [
      "5.0\n"
     ]
    }
   ],
   "source": [
    "a=20\n",
    "b=4\n",
    "print(a/b)"
   ]
  },
  {
   "cell_type": "code",
   "execution_count": 2,
   "id": "c9f19da8-ac74-446d-844f-c06c5ab844d1",
   "metadata": {},
   "outputs": [],
   "source": [
    "# Difference between / - division and //-floor division\n",
    "# / - division - always return floating point arithmatic\n",
    "#// - floor division - return integer  arithmatic and floating point arithmatic"
   ]
  },
  {
   "cell_type": "code",
   "execution_count": 3,
   "id": "b9592ea6-37bd-41ae-8c78-000dd9ebba79",
   "metadata": {},
   "outputs": [
    {
     "name": "stdout",
     "output_type": "stream",
     "text": [
      "5\n"
     ]
    }
   ],
   "source": [
    "a=20\n",
    "b=4\n",
    "print(a//b)"
   ]
  },
  {
   "cell_type": "code",
   "execution_count": 4,
   "id": "b82711bb-2a81-449d-98b0-a9ec316d2ff2",
   "metadata": {},
   "outputs": [
    {
     "name": "stdout",
     "output_type": "stream",
     "text": [
      "5.0\n",
      "5.0\n"
     ]
    }
   ],
   "source": [
    "\n",
    "a=20.0\n",
    "b=4\n",
    "print(a/b)\n",
    "print(a//b)"
   ]
  },
  {
   "cell_type": "code",
   "execution_count": 5,
   "id": "bd625c8f-a314-4d7f-a7a7-9c9337203585",
   "metadata": {},
   "outputs": [
    {
     "name": "stdout",
     "output_type": "stream",
     "text": [
      "10\n",
      "50.0\n"
     ]
    }
   ],
   "source": [
    "a=5\n",
    "b=2\n",
    "c=10.0\n",
    "\n",
    "print(a*b)\n",
    "print(a*c)"
   ]
  },
  {
   "cell_type": "code",
   "execution_count": 6,
   "id": "725e1a70-ae2e-41a0-a686-9a856609d521",
   "metadata": {},
   "outputs": [
    {
     "name": "stdout",
     "output_type": "stream",
     "text": [
      "sunilsunilsunilsunilsunil\n"
     ]
    }
   ],
   "source": [
    "a=5\n",
    "b=\"sunil\"\n",
    "print(a*b)"
   ]
  },
  {
   "cell_type": "code",
   "execution_count": 8,
   "id": "4648a859-69c0-43a3-808f-f30db15aaf28",
   "metadata": {},
   "outputs": [
    {
     "ename": "TypeError",
     "evalue": "can't multiply sequence by non-int of type 'str'",
     "output_type": "error",
     "traceback": [
      "\u001b[1;31m---------------------------------------------------------------------------\u001b[0m",
      "\u001b[1;31mTypeError\u001b[0m                                 Traceback (most recent call last)",
      "Cell \u001b[1;32mIn[8], line 3\u001b[0m\n\u001b[0;32m      1\u001b[0m a\u001b[38;5;241m=\u001b[39m\u001b[38;5;124m\"\u001b[39m\u001b[38;5;124mten\u001b[39m\u001b[38;5;124m\"\u001b[39m\n\u001b[0;32m      2\u001b[0m b\u001b[38;5;241m=\u001b[39m\u001b[38;5;124m\"\u001b[39m\u001b[38;5;124mone\u001b[39m\u001b[38;5;124m\"\u001b[39m\n\u001b[1;32m----> 3\u001b[0m \u001b[38;5;28mprint\u001b[39m(\u001b[43ma\u001b[49m\u001b[38;5;241;43m*\u001b[39;49m\u001b[43mb\u001b[49m)\n",
      "\u001b[1;31mTypeError\u001b[0m: can't multiply sequence by non-int of type 'str'"
     ]
    }
   ],
   "source": [
    "a=\"ten\"\n",
    "b=\"one\"\n",
    "print(a*b)"
   ]
  },
  {
   "cell_type": "code",
   "execution_count": 9,
   "id": "ea071648-7aa3-4cd6-8591-79fea1cc6f57",
   "metadata": {},
   "outputs": [
    {
     "name": "stdout",
     "output_type": "stream",
     "text": [
      "70\n",
      "RahulGandhi\n"
     ]
    }
   ],
   "source": [
    "# + operator - acting as addition as addition and concatination\n",
    "\n",
    "a=30\n",
    "b=40\n",
    "c=\"Rahul\"\n",
    "d=\"Gandhi\"\n",
    "\n",
    "print(a+b)    # addition\n",
    "print(c+d)    #concatination"
   ]
  },
  {
   "cell_type": "code",
   "execution_count": 10,
   "id": "51e3e6bc-4011-47a0-83c0-22f8fe3f1b69",
   "metadata": {},
   "outputs": [
    {
     "ename": "TypeError",
     "evalue": "unsupported operand type(s) for +: 'int' and 'str'",
     "output_type": "error",
     "traceback": [
      "\u001b[1;31m---------------------------------------------------------------------------\u001b[0m",
      "\u001b[1;31mTypeError\u001b[0m                                 Traceback (most recent call last)",
      "Cell \u001b[1;32mIn[10], line 6\u001b[0m\n\u001b[0;32m      3\u001b[0m c\u001b[38;5;241m=\u001b[39m\u001b[38;5;124m\"\u001b[39m\u001b[38;5;124mRahul\u001b[39m\u001b[38;5;124m\"\u001b[39m\n\u001b[0;32m      4\u001b[0m d\u001b[38;5;241m=\u001b[39m\u001b[38;5;124m\"\u001b[39m\u001b[38;5;124mGandhi\u001b[39m\u001b[38;5;124m\"\u001b[39m\n\u001b[1;32m----> 6\u001b[0m \u001b[38;5;28mprint\u001b[39m(\u001b[43ma\u001b[49m\u001b[38;5;241;43m+\u001b[39;49m\u001b[43mc\u001b[49m)\n\u001b[0;32m      7\u001b[0m \u001b[38;5;28mprint\u001b[39m(a\u001b[38;5;241m*\u001b[39mc)\n",
      "\u001b[1;31mTypeError\u001b[0m: unsupported operand type(s) for +: 'int' and 'str'"
     ]
    }
   ],
   "source": [
    "a=30\n",
    "b=40\n",
    "c=\"Rahul\"\n",
    "d=\"Gandhi\"\n",
    "\n",
    "print(a+c)\n",
    "print(a*c)"
   ]
  },
  {
   "cell_type": "code",
   "execution_count": 11,
   "id": "8b8f8ae1-1983-4951-971b-06ff1c8b2b52",
   "metadata": {},
   "outputs": [
    {
     "name": "stdout",
     "output_type": "stream",
     "text": [
      "sunilsunilsunilsunilsunilsunilsunilsunilsunilsunilsunilsunilsunilsunilsunilsunilsunilsunilsunilsunilsunilsunilsunilsunilsunilsunilsunilsunilsunilsunil\n"
     ]
    }
   ],
   "source": [
    "a=30\n",
    "b=40\n",
    "c=\"sunil\"\n",
    "d=\"acharya\"\n",
    "\n",
    "print(a*c)"
   ]
  },
  {
   "cell_type": "code",
   "execution_count": 12,
   "id": "23d2b775-cb42-41e8-a8ad-fa6fb4f495e7",
   "metadata": {},
   "outputs": [
    {
     "name": "stdout",
     "output_type": "stream",
     "text": [
      "8\n"
     ]
    }
   ],
   "source": [
    "print(2**3) #2*2*2"
   ]
  },
  {
   "cell_type": "code",
   "execution_count": 13,
   "id": "bb7bb324-e34e-4ad1-8d90-ec0027073462",
   "metadata": {},
   "outputs": [
    {
     "name": "stdout",
     "output_type": "stream",
     "text": [
      "11.313708498984761\n"
     ]
    }
   ],
   "source": [
    "print(2 ** 3.5)"
   ]
  },
  {
   "cell_type": "code",
   "execution_count": 14,
   "id": "e98da96f-ecc2-4876-9e0d-2fe7f2058ff4",
   "metadata": {},
   "outputs": [
    {
     "name": "stdout",
     "output_type": "stream",
     "text": [
      "4660808027410506132900915088997417305944355117847144307414511042169984019070976\n"
     ]
    }
   ],
   "source": [
    "print(56 ** 45)"
   ]
  },
  {
   "cell_type": "code",
   "execution_count": null,
   "id": "56731674-608d-4b0d-9355-72d6ade1acb5",
   "metadata": {},
   "outputs": [],
   "source": []
  }
 ],
 "metadata": {
  "kernelspec": {
   "display_name": "Python 3 (ipykernel)",
   "language": "python",
   "name": "python3"
  },
  "language_info": {
   "codemirror_mode": {
    "name": "ipython",
    "version": 3
   },
   "file_extension": ".py",
   "mimetype": "text/x-python",
   "name": "python",
   "nbconvert_exporter": "python",
   "pygments_lexer": "ipython3",
   "version": "3.12.3"
  }
 },
 "nbformat": 4,
 "nbformat_minor": 5
}
