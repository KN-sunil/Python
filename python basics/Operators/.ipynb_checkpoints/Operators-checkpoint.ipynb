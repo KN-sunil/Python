{
 "cells": [
  {
   "cell_type": "code",
   "execution_count": 1,
   "id": "31c54d26-e1b6-418b-acba-2f7013534846",
   "metadata": {},
   "outputs": [
    {
     "name": "stdout",
     "output_type": "stream",
     "text": [
      "True\n",
      "True\n"
     ]
    }
   ],
   "source": [
    "a=100\n",
    "b=100\n",
    "\n",
    "print(a is b)\n",
    "print(a==b)"
   ]
  },
  {
   "cell_type": "code",
   "execution_count": 2,
   "id": "6e190b12-2cb2-416d-9ae9-9808135d4a56",
   "metadata": {},
   "outputs": [
    {
     "name": "stdout",
     "output_type": "stream",
     "text": [
      "True\n"
     ]
    }
   ],
   "source": [
    "print(\"rahul\" in[\"rahul\",\"sonia\",\"sunil\"])"
   ]
  },
  {
   "cell_type": "code",
   "execution_count": 3,
   "id": "c8d59165-bc5f-459b-aab1-90af9299f316",
   "metadata": {},
   "outputs": [
    {
     "name": "stdout",
     "output_type": "stream",
     "text": [
      "False\n"
     ]
    }
   ],
   "source": [
    "print(\"rahul ghandi\" in[\"rahul\",\"sonia\",\"sunil\"])"
   ]
  },
  {
   "cell_type": "code",
   "execution_count": 4,
   "id": "73805baa-5bcb-4d6a-bb5d-3575d5a11306",
   "metadata": {},
   "outputs": [
    {
     "name": "stdout",
     "output_type": "stream",
     "text": [
      "False\n"
     ]
    }
   ],
   "source": [
    "print(\"R\" in \"rahul\")\n"
   ]
  },
  {
   "cell_type": "code",
   "execution_count": 5,
   "id": "c31d141f-c7a2-4e6a-9381-a34e17961634",
   "metadata": {},
   "outputs": [
    {
     "name": "stdout",
     "output_type": "stream",
     "text": [
      "6\n"
     ]
    }
   ],
   "source": [
    "print(2*3)"
   ]
  },
  {
   "cell_type": "code",
   "execution_count": 6,
   "id": "7ff6270d-01a5-48b4-b5e0-253c7fb6323f",
   "metadata": {},
   "outputs": [
    {
     "name": "stdout",
     "output_type": "stream",
     "text": [
      "44\n"
     ]
    }
   ],
   "source": [
    "print(2*\"4\")"
   ]
  },
  {
   "cell_type": "code",
   "execution_count": 7,
   "id": "3b347c9b-c211-4a68-8ad5-db1319cacecc",
   "metadata": {},
   "outputs": [
    {
     "name": "stdout",
     "output_type": "stream",
     "text": [
      "sunilsunil\n"
     ]
    }
   ],
   "source": [
    "print(2 *\"sunil\")"
   ]
  },
  {
   "cell_type": "code",
   "execution_count": null,
   "id": "40647f81-567c-4be9-b2e6-05ae8c912015",
   "metadata": {},
   "outputs": [],
   "source": []
  }
 ],
 "metadata": {
  "kernelspec": {
   "display_name": "Python 3 (ipykernel)",
   "language": "python",
   "name": "python3"
  },
  "language_info": {
   "codemirror_mode": {
    "name": "ipython",
    "version": 3
   },
   "file_extension": ".py",
   "mimetype": "text/x-python",
   "name": "python",
   "nbconvert_exporter": "python",
   "pygments_lexer": "ipython3",
   "version": "3.12.3"
  }
 },
 "nbformat": 4,
 "nbformat_minor": 5
}
