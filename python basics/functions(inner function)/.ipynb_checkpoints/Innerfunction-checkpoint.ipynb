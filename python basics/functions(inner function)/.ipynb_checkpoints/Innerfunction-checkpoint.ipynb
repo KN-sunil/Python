{
 "cells": [
  {
   "cell_type": "code",
   "execution_count": 1,
   "id": "e83157ca-282b-4353-b784-488f9fb4398e",
   "metadata": {},
   "outputs": [
    {
     "name": "stdout",
     "output_type": "stream",
     "text": [
      "outer function\n",
      "inner function\n",
      "inner function\n"
     ]
    }
   ],
   "source": [
    "# inner function is nothing but inside a function we are writing another function\n",
    "\n",
    "def outer():\n",
    "    print(\"outer function\")\n",
    "    def inner():\n",
    "        print(\"inner function\")\n",
    "    inner()\n",
    "    inner()\n",
    "outer()        "
   ]
  },
  {
   "cell_type": "code",
   "execution_count": 2,
   "id": "88c6bf55-ca47-4898-a902-76a8d2530292",
   "metadata": {},
   "outputs": [
    {
     "name": "stdout",
     "output_type": "stream",
     "text": [
      "outer function\n"
     ]
    },
    {
     "ename": "NameError",
     "evalue": "name 'inner' is not defined",
     "output_type": "error",
     "traceback": [
      "\u001b[1;31m---------------------------------------------------------------------------\u001b[0m",
      "\u001b[1;31mNameError\u001b[0m                                 Traceback (most recent call last)",
      "Cell \u001b[1;32mIn[2], line 7\u001b[0m\n\u001b[0;32m      4\u001b[0m         \u001b[38;5;28mprint\u001b[39m(\u001b[38;5;124m\"\u001b[39m\u001b[38;5;124minner function\u001b[39m\u001b[38;5;124m\"\u001b[39m)\n\u001b[0;32m      6\u001b[0m outer() \n\u001b[1;32m----> 7\u001b[0m \u001b[43minner\u001b[49m()\n",
      "\u001b[1;31mNameError\u001b[0m: name 'inner' is not defined"
     ]
    }
   ],
   "source": [
    "def outer():\n",
    "    print(\"outer function\")\n",
    "    def inner():\n",
    "        print(\"inner function\")\n",
    "   \n",
    "outer() \n",
    "inner() # gives error because we are not invoking inner function(we should invoke inside inner function)"
   ]
  },
  {
   "cell_type": "code",
   "execution_count": 3,
   "id": "ba8c69a5-d02a-41b6-8da5-a49cf1082fe7",
   "metadata": {},
   "outputs": [
    {
     "name": "stdout",
     "output_type": "stream",
     "text": [
      "inner function\n",
      "inner function\n"
     ]
    }
   ],
   "source": [
    "#how to invoke inner function outside the function(write the function reference)\n",
    "def outer():\n",
    "    def inner():\n",
    "        print(\"inner function\")\n",
    "    return inner   #providing reference \n",
    "inner_fun_ref=outer()\n",
    "inner_fun_ref()\n",
    "inner_fun_ref()"
   ]
  },
  {
   "cell_type": "code",
   "execution_count": null,
   "id": "a6db2952-1863-4b70-a8d4-d46a7b332614",
   "metadata": {},
   "outputs": [],
   "source": []
  }
 ],
 "metadata": {
  "kernelspec": {
   "display_name": "Python 3 (ipykernel)",
   "language": "python",
   "name": "python3"
  },
  "language_info": {
   "codemirror_mode": {
    "name": "ipython",
    "version": 3
   },
   "file_extension": ".py",
   "mimetype": "text/x-python",
   "name": "python",
   "nbconvert_exporter": "python",
   "pygments_lexer": "ipython3",
   "version": "3.12.3"
  }
 },
 "nbformat": 4,
 "nbformat_minor": 5
}
