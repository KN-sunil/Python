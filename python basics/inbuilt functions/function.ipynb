{
 "cells": [
  {
   "cell_type": "code",
   "execution_count": 3,
   "id": "4ccb9422-89f6-411e-b023-968510b2f85b",
   "metadata": {},
   "outputs": [
    {
     "name": "stdin",
     "output_type": "stream",
     "text": [
      "Enter first number 52\n",
      "Enter second number 78\n"
     ]
    },
    {
     "name": "stdout",
     "output_type": "stream",
     "text": [
      "sum: 5278\n"
     ]
    }
   ],
   "source": [
    "a=input(\"Enter first number\")\n",
    "b=input(\"Enter second number\")\n",
    "\n",
    "print(\"sum:\",a+b)"
   ]
  },
  {
   "cell_type": "code",
   "execution_count": 4,
   "id": "48b82eaa-5117-4aaa-9494-69c118bc8376",
   "metadata": {},
   "outputs": [
    {
     "name": "stdin",
     "output_type": "stream",
     "text": [
      "Enter First Number: 52\n",
      "Enter Second Number: 11\n"
     ]
    },
    {
     "name": "stdout",
     "output_type": "stream",
     "text": [
      "63\n"
     ]
    }
   ],
   "source": [
    "a=int(input(\"Enter First Number:\")) #by default it is string so we have to convert\n",
    "b=int(input(\"Enter Second Number:\"))\n",
    "print(a+b)"
   ]
  },
  {
   "cell_type": "code",
   "execution_count": 5,
   "id": "6fc220d8-249c-4a5f-a51b-181811f2d4e4",
   "metadata": {},
   "outputs": [
    {
     "name": "stdout",
     "output_type": "stream",
     "text": [
      "<class 'builtin_function_or_method'>\n"
     ]
    }
   ],
   "source": [
    "print(type(sum))"
   ]
  },
  {
   "cell_type": "code",
   "execution_count": 6,
   "id": "c131a718-c500-43b4-be96-85d676523b71",
   "metadata": {},
   "outputs": [
    {
     "name": "stdin",
     "output_type": "stream",
     "text": [
      "Enter Employee Id: 8\n"
     ]
    },
    {
     "name": "stdout",
     "output_type": "stream",
     "text": [
      "<class 'str'>\n",
      "140736460163368\n"
     ]
    }
   ],
   "source": [
    "eid = input(\"Enter Employee Id:\")   #by default it is string so we have to convert\n",
    "\n",
    "print(type(eid))  \n",
    "print(id(eid)) "
   ]
  },
  {
   "cell_type": "code",
   "execution_count": null,
   "id": "8cb3a937-64a6-43b8-b02f-2a88155278dc",
   "metadata": {},
   "outputs": [],
   "source": []
  }
 ],
 "metadata": {
  "kernelspec": {
   "display_name": "Python 3 (ipykernel)",
   "language": "python",
   "name": "python3"
  },
  "language_info": {
   "codemirror_mode": {
    "name": "ipython",
    "version": 3
   },
   "file_extension": ".py",
   "mimetype": "text/x-python",
   "name": "python",
   "nbconvert_exporter": "python",
   "pygments_lexer": "ipython3",
   "version": "3.12.3"
  }
 },
 "nbformat": 4,
 "nbformat_minor": 5
}
