{
 "cells": [
  {
   "cell_type": "code",
   "execution_count": 1,
   "id": "11fe6865-b282-49e1-b18e-3ed6280333b0",
   "metadata": {},
   "outputs": [
    {
     "name": "stdout",
     "output_type": "stream",
     "text": [
      "[]\n",
      "[10, 20.5, 'Rahul Gandhi', True]\n"
     ]
    }
   ],
   "source": [
    "#what is list object? list datatype?\n",
    "a=[] #empty list\n",
    "a=[]  #empty list\n",
    "b=[10,20.5, \"Rahul Gandhi\", True] \n",
    "\n",
    "print(a)\n",
    "print(b)"
   ]
  },
  {
   "cell_type": "code",
   "execution_count": 2,
   "id": "138e2043-93ec-4fe5-a239-1fd5bec8e8c4",
   "metadata": {},
   "outputs": [
    {
     "name": "stdout",
     "output_type": "stream",
     "text": [
      "Rahul\n",
      "Sonia\n",
      "Priyanka\n",
      "Modi\n"
     ]
    },
    {
     "ename": "IndexError",
     "evalue": "list index out of range",
     "output_type": "error",
     "traceback": [
      "\u001b[1;31m---------------------------------------------------------------------------\u001b[0m",
      "\u001b[1;31mIndexError\u001b[0m                                Traceback (most recent call last)",
      "Cell \u001b[1;32mIn[2], line 9\u001b[0m\n\u001b[0;32m      7\u001b[0m \u001b[38;5;28mprint\u001b[39m(enames[\u001b[38;5;241m2\u001b[39m])\n\u001b[0;32m      8\u001b[0m \u001b[38;5;28mprint\u001b[39m(enames[\u001b[38;5;241m3\u001b[39m])\n\u001b[1;32m----> 9\u001b[0m \u001b[38;5;28mprint\u001b[39m(\u001b[43menames\u001b[49m\u001b[43m[\u001b[49m\u001b[38;5;241;43m4\u001b[39;49m\u001b[43m]\u001b[49m)\n",
      "\u001b[1;31mIndexError\u001b[0m: list index out of range"
     ]
    }
   ],
   "source": [
    "enames=['Rahul', 'Sonia','Priyanka','Modi']\n",
    "#index    0        1          2        3\n",
    "#read list elements - using indexing\n",
    "\n",
    "print(enames[0])\n",
    "print(enames[1])\n",
    "print(enames[2])\n",
    "print(enames[3])\n",
    "print(enames[4])"
   ]
  },
  {
   "cell_type": "code",
   "execution_count": 3,
   "id": "14076214-0747-4dd2-bd0c-3f0b866c0890",
   "metadata": {},
   "outputs": [
    {
     "name": "stdout",
     "output_type": "stream",
     "text": [
      "Rahul\n",
      "Sonia\n",
      "Priyanka\n",
      "Modi\n"
     ]
    }
   ],
   "source": [
    "enames=['Rahul', 'Sonia','Priyanka','Modi']\n",
    "#index    0        1          2        3\n",
    "\n",
    "for ename in enames:\n",
    "    print(ename)"
   ]
  },
  {
   "cell_type": "code",
   "execution_count": 4,
   "id": "7ec1aae0-906a-4a25-9e16-bba26ecc2fc6",
   "metadata": {},
   "outputs": [
    {
     "name": "stdout",
     "output_type": "stream",
     "text": [
      "<class 'list'>\n",
      "<class 'tuple'>\n"
     ]
    }
   ],
   "source": [
    "users=['Rahul', 'Sonia','Priyanka','Modi']\n",
    "enames=('Rahul', 'Sonia','Priyanka','Modi')\n",
    "print(type(users))   #<class,list>\n",
    "print(type(enames))  #<class,tuple>"
   ]
  },
  {
   "cell_type": "code",
   "execution_count": 5,
   "id": "d5c28640-ae93-4cd2-b57f-0b07eb1e84d1",
   "metadata": {},
   "outputs": [
    {
     "name": "stdout",
     "output_type": "stream",
     "text": [
      "(10, 20.5, 'Rahul Gandhi', True, True, 10)\n"
     ]
    }
   ],
   "source": [
    "#what is tuple object? read only version of list boject.\n",
    "\n",
    "a=(10,20.5,\"Rahul Gandhi\", True, True,10)\n",
    "print(a)"
   ]
  },
  {
   "cell_type": "code",
   "execution_count": 8,
   "id": "81435bfa-d870-499d-b011-39e9e0682e25",
   "metadata": {},
   "outputs": [
    {
     "ename": "TypeError",
     "evalue": "'tuple' object does not support item assignment",
     "output_type": "error",
     "traceback": [
      "\u001b[1;31m---------------------------------------------------------------------------\u001b[0m",
      "\u001b[1;31mTypeError\u001b[0m                                 Traceback (most recent call last)",
      "Cell \u001b[1;32mIn[8], line 5\u001b[0m\n\u001b[0;32m      3\u001b[0m users\u001b[38;5;241m.\u001b[39mappend(\u001b[38;5;124m\"\u001b[39m\u001b[38;5;124mAmith Shaw\u001b[39m\u001b[38;5;124m\"\u001b[39m)\n\u001b[0;32m      4\u001b[0m users[\u001b[38;5;241m0\u001b[39m] \u001b[38;5;241m=\u001b[39m \u001b[38;5;124m\"\u001b[39m\u001b[38;5;124mRahul Gandhi\u001b[39m\u001b[38;5;124m\"\u001b[39m\n\u001b[1;32m----> 5\u001b[0m \u001b[43menames\u001b[49m\u001b[43m[\u001b[49m\u001b[38;5;241;43m0\u001b[39;49m\u001b[43m]\u001b[49m\u001b[38;5;241m=\u001b[39m\u001b[38;5;124m\"\u001b[39m\u001b[38;5;124msunil\u001b[39m\u001b[38;5;124m\"\u001b[39m\n\u001b[0;32m      6\u001b[0m \u001b[38;5;28mprint\u001b[39m(users)\n\u001b[0;32m      7\u001b[0m \u001b[38;5;28mprint\u001b[39m(enames)\n",
      "\u001b[1;31mTypeError\u001b[0m: 'tuple' object does not support item assignment"
     ]
    }
   ],
   "source": [
    "users=['Rahul', 'Sonia','Priyanka','Modi']\n",
    "enames=('Rahul', 'Sonia','Priyanka','Modi')\n",
    "users.append(\"Amith Shaw\")\n",
    "users[0] = \"Rahul Gandhi\"\n",
    "enames[0]=\"sunil\"\n",
    "print(users)\n",
    "print(enames)"
   ]
  },
  {
   "cell_type": "code",
   "execution_count": 9,
   "id": "1554f132-e523-4ffa-af9f-32685e325b4a",
   "metadata": {},
   "outputs": [
    {
     "name": "stdout",
     "output_type": "stream",
     "text": [
      "Rahul\n",
      "Sonia\n",
      "Priyanka\n",
      "Modi\n",
      "Rahul\n",
      "Sonia\n",
      "Priyanka\n",
      "Modi\n"
     ]
    },
    {
     "ename": "IndexError",
     "evalue": "tuple index out of range",
     "output_type": "error",
     "traceback": [
      "\u001b[1;31m---------------------------------------------------------------------------\u001b[0m",
      "\u001b[1;31mIndexError\u001b[0m                                Traceback (most recent call last)",
      "Cell \u001b[1;32mIn[9], line 10\u001b[0m\n\u001b[0;32m      8\u001b[0m \u001b[38;5;28mprint\u001b[39m(enames[\u001b[38;5;241m2\u001b[39m])\n\u001b[0;32m      9\u001b[0m \u001b[38;5;28mprint\u001b[39m(enames[\u001b[38;5;241m3\u001b[39m])\n\u001b[1;32m---> 10\u001b[0m \u001b[38;5;28mprint\u001b[39m(\u001b[43menames\u001b[49m\u001b[43m[\u001b[49m\u001b[38;5;241;43m4\u001b[39;49m\u001b[43m]\u001b[49m)\n",
      "\u001b[1;31mIndexError\u001b[0m: tuple index out of range"
     ]
    }
   ],
   "source": [
    "enames=('Rahul', 'Sonia','Priyanka','Modi')\n",
    "\n",
    "for ename in enames:\n",
    "    print(ename)\n",
    "\n",
    "print(enames[0])\n",
    "print(enames[1])\n",
    "print(enames[2])\n",
    "print(enames[3])\n",
    "print(enames[4])"
   ]
  },
  {
   "cell_type": "code",
   "execution_count": 10,
   "id": "47bc040a-d485-4dfb-b743-88fc17aef2de",
   "metadata": {},
   "outputs": [
    {
     "name": "stdout",
     "output_type": "stream",
     "text": [
      "<class 'list'>\n",
      "<class 'tuple'>\n",
      "<class 'dict'>\n",
      "<class 'dict'>\n"
     ]
    }
   ],
   "source": [
    "l=[]   #empty list\n",
    "t = () #empty tuple\n",
    "s = {} #empty dict\n",
    "d={}   #empty dict\n",
    "\n",
    "print(type(l))\n",
    "print(type(t))\n",
    "print(type(s))\n",
    "print(type(d))"
   ]
  },
  {
   "cell_type": "code",
   "execution_count": 11,
   "id": "32e1a386-efeb-46a7-8add-94d3a7adbf97",
   "metadata": {},
   "outputs": [
    {
     "name": "stdout",
     "output_type": "stream",
     "text": [
      "set()\n",
      "<class 'set'>\n"
     ]
    }
   ],
   "source": [
    "#how to create empty set? - using set() function\n",
    "\n",
    "s1= set()\n",
    "print(s1)\n",
    "print(type(s1))"
   ]
  },
  {
   "cell_type": "code",
   "execution_count": 12,
   "id": "10eacf20-d529-466c-ab77-52fff6fe66a7",
   "metadata": {},
   "outputs": [
    {
     "name": "stdout",
     "output_type": "stream",
     "text": [
      "<class 'list'>\n",
      "<class 'tuple'>\n",
      "<class 'set'>\n",
      "<class 'dict'>\n",
      "[]\n",
      "()\n",
      "set()\n",
      "{}\n"
     ]
    }
   ],
   "source": [
    "l=[]   #empty list\n",
    "t = () #empty tuple\n",
    "s = set() #empty set\n",
    "d={}   #empty dict\n",
    "\n",
    "print(type(l))\n",
    "print(type(t))\n",
    "print(type(s))\n",
    "print(type(d))\n",
    "print(l)\n",
    "print(t)\n",
    "print(s)\n",
    "print(d)"
   ]
  },
  {
   "cell_type": "code",
   "execution_count": 13,
   "id": "8b9d036b-df60-4f06-af40-260b778e50f8",
   "metadata": {},
   "outputs": [
    {
     "name": "stdout",
     "output_type": "stream",
     "text": [
      "{10, 20}\n"
     ]
    }
   ],
   "source": [
    "#what is set?\n",
    "#group of elmenent as one entity, and not allowed duplicates\n",
    "a={10,20,20,10,20}\n",
    "print(a)"
   ]
  },
  {
   "cell_type": "code",
   "execution_count": 14,
   "id": "dc120240-3c3a-48ed-bf2c-f4fbd7b5466d",
   "metadata": {},
   "outputs": [
    {
     "name": "stdout",
     "output_type": "stream",
     "text": [
      "{'RG', 10, 20.5, True}\n"
     ]
    }
   ],
   "source": [
    "a={10,20.5,\"RG\",True,10,10}\n",
    "print(a)"
   ]
  },
  {
   "cell_type": "code",
   "execution_count": 15,
   "id": "a0d88a79-fd52-46fe-a18f-92d4b7898ba8",
   "metadata": {},
   "outputs": [
    {
     "name": "stdout",
     "output_type": "stream",
     "text": [
      "{104, 103}\n"
     ]
    }
   ],
   "source": [
    "ids1={101,102,103,104}\n",
    "ids2={105,106,107,101,102}\n",
    "\n",
    "ids3=ids1-ids2\n",
    "print(ids3)"
   ]
  },
  {
   "cell_type": "code",
   "execution_count": 16,
   "id": "77157fbc-1d10-4673-a6d1-9ea2ed8517b2",
   "metadata": {},
   "outputs": [
    {
     "name": "stdout",
     "output_type": "stream",
     "text": [
      "set()\n"
     ]
    }
   ],
   "source": [
    "ids={101,102,103,104}\n",
    "ids.clear()\n",
    "\n",
    "print(ids)"
   ]
  },
  {
   "cell_type": "code",
   "execution_count": 17,
   "id": "0f3551c7-9606-4b48-bba6-75ca66cb645a",
   "metadata": {},
   "outputs": [
    {
     "name": "stdout",
     "output_type": "stream",
     "text": [
      "[]\n",
      "set()\n",
      "{}\n"
     ]
    }
   ],
   "source": [
    "users=['Rahul', 'Sonia','Priyanka','Modi']\n",
    "enames=('Rahul', 'Sonia','Priyanka','Modi')\n",
    "ids={101,102,103,104}\n",
    "\n",
    "emp={'id':101,'name':\"Rahul\"}\n",
    "\n",
    "users.clear()\n",
    "print(users)   \n",
    "\n",
    "#enames.clear()\n",
    "#print(enames)  #tuple object has no attribute - clear\n",
    "\n",
    "\n",
    "\n",
    "ids.clear()\n",
    "print(ids)\n",
    "\n",
    "emp.clear()\n",
    "print(emp)"
   ]
  },
  {
   "cell_type": "code",
   "execution_count": 19,
   "id": "92f16084-e97f-4643-a573-aa66aa99817f",
   "metadata": {},
   "outputs": [
    {
     "name": "stdout",
     "output_type": "stream",
     "text": [
      "<class 'dict'>\n"
     ]
    }
   ],
   "source": [
    "#what is dict?\n",
    "emp={'id':101,'name':\"Rahul\"}\n",
    "print(type(emp))"
   ]
  },
  {
   "cell_type": "code",
   "execution_count": 20,
   "id": "7d88ac26-be71-4476-9b5a-f1394c01272e",
   "metadata": {},
   "outputs": [
    {
     "name": "stdout",
     "output_type": "stream",
     "text": [
      "{'id': 201, 'name': 'Rahul'}\n"
     ]
    }
   ],
   "source": [
    "emp={'id':101,'name':\"Rahul\", 'id':201}\n",
    "print(emp)"
   ]
  },
  {
   "cell_type": "code",
   "execution_count": null,
   "id": "282b0ce8-6285-4092-94d7-990603e64d29",
   "metadata": {},
   "outputs": [],
   "source": []
  }
 ],
 "metadata": {
  "kernelspec": {
   "display_name": "Python 3 (ipykernel)",
   "language": "python",
   "name": "python3"
  },
  "language_info": {
   "codemirror_mode": {
    "name": "ipython",
    "version": 3
   },
   "file_extension": ".py",
   "mimetype": "text/x-python",
   "name": "python",
   "nbconvert_exporter": "python",
   "pygments_lexer": "ipython3",
   "version": "3.12.3"
  }
 },
 "nbformat": 4,
 "nbformat_minor": 5
}
