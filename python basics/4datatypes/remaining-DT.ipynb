{
 "cells": [
  {
   "cell_type": "code",
   "execution_count": 1,
   "id": "a4193d1d-c0f3-4405-a9fb-c0ef0ee11fb0",
   "metadata": {},
   "outputs": [
    {
     "ename": "ValueError",
     "evalue": "bytes must be in range(0, 256)",
     "output_type": "error",
     "traceback": [
      "\u001b[1;31m---------------------------------------------------------------------------\u001b[0m",
      "\u001b[1;31mValueError\u001b[0m                                Traceback (most recent call last)",
      "Cell \u001b[1;32mIn[1], line 5\u001b[0m\n\u001b[0;32m      1\u001b[0m \u001b[38;5;66;03m#bytes    -Immutable - group values in between 0 to 255\u001b[39;00m\n\u001b[0;32m      2\u001b[0m \u001b[38;5;66;03m#bytearray-Mutable\u001b[39;00m\n\u001b[0;32m      4\u001b[0m l1 \u001b[38;5;241m=\u001b[39m[\u001b[38;5;241m10\u001b[39m,\u001b[38;5;241m20\u001b[39m,\u001b[38;5;241m100\u001b[39m,\u001b[38;5;241m256\u001b[39m]\n\u001b[1;32m----> 5\u001b[0m b \u001b[38;5;241m=\u001b[39m \u001b[38;5;28;43mbytes\u001b[39;49m\u001b[43m(\u001b[49m\u001b[43ml1\u001b[49m\u001b[43m)\u001b[49m\n\u001b[0;32m      6\u001b[0m ba \u001b[38;5;241m=\u001b[39m \u001b[38;5;28mbytearray\u001b[39m(l1)\n\u001b[0;32m      7\u001b[0m \u001b[38;5;28mprint\u001b[39m(b)\n",
      "\u001b[1;31mValueError\u001b[0m: bytes must be in range(0, 256)"
     ]
    }
   ],
   "source": [
    "#bytes    -Immutable - group values in between 0 to 255\n",
    "#bytearray-Mutable\n",
    "\n",
    "l1 =[10,20,100,256]\n",
    "b = bytes(l1)\n",
    "ba = bytearray(l1)\n",
    "print(b)\n",
    "print(ba)\n",
    "\n",
    "#print data types\n",
    "\n",
    "print(type(b))\n",
    "print(type(ba))"
   ]
  },
  {
   "cell_type": "code",
   "execution_count": 2,
   "id": "f806251f-f158-4f2b-98ab-f5800a973437",
   "metadata": {},
   "outputs": [
    {
     "name": "stdout",
     "output_type": "stream",
     "text": [
      "{104, 101, 102, 103}\n"
     ]
    }
   ],
   "source": [
    "s1 = {101,102,103,104,101,102,103,104}\n",
    "print(s1)"
   ]
  },
  {
   "cell_type": "code",
   "execution_count": 3,
   "id": "33825593-a833-419e-aeea-e5a9b1b32ac1",
   "metadata": {},
   "outputs": [
    {
     "name": "stdout",
     "output_type": "stream",
     "text": [
      "frozenset({104, 101, 102, 103})\n",
      "<class 'frozenset'>\n"
     ]
    }
   ],
   "source": [
    "s1 = {101,102,103,104,101,102,103,104}\n",
    "\n",
    "#create fs object\n",
    "fs = frozenset(s1)\n",
    "print(fs)\n",
    "print(type(fs))"
   ]
  },
  {
   "cell_type": "code",
   "execution_count": 5,
   "id": "5575eacb-01c7-4952-9dda-4dcc8603ee8b",
   "metadata": {},
   "outputs": [
    {
     "name": "stdout",
     "output_type": "stream",
     "text": [
      "range(0, 10)\n"
     ]
    }
   ],
   "source": [
    "r1 = range(10)\n",
    "print(r1)\n",
    "r2= range(1,50)\n",
    "r3 = range(5,51,5)\n",
    "#r4= range(100,0,-1)\n",
    "#r5 = range(1,11)\n",
    "\n",
    "#r6= range(10,0,-1)"
   ]
  },
  {
   "cell_type": "code",
   "execution_count": 6,
   "id": "91cb3bad-fab0-4667-a951-02258875023c",
   "metadata": {},
   "outputs": [
    {
     "name": "stdout",
     "output_type": "stream",
     "text": [
      "range(0, 10)\n",
      "range(1, 50)\n",
      "range(5, 51, 5)\n",
      "<class 'range'>\n",
      "<class 'range'>\n",
      "<class 'range'>\n"
     ]
    }
   ],
   "source": [
    "r1 = range(10)\n",
    "r2= range(1,50)\n",
    "r3 = range(5,51,5)\n",
    "\n",
    "print(r1)\n",
    "print(r2)\n",
    "print(r3)\n",
    "print(type(r1))\n",
    "print(type(r2))\n",
    "print(type(r3))"
   ]
  },
  {
   "cell_type": "code",
   "execution_count": 7,
   "id": "8dce36fd-bd3e-46c4-9a26-dacb11e73644",
   "metadata": {},
   "outputs": [
    {
     "name": "stdout",
     "output_type": "stream",
     "text": [
      "1\n",
      "2\n",
      "3\n",
      "4\n",
      "5\n",
      "6\n",
      "7\n",
      "8\n",
      "9\n",
      "10\n",
      "10\n",
      "9\n",
      "8\n",
      "7\n",
      "6\n",
      "5\n",
      "4\n",
      "3\n",
      "2\n",
      "1\n"
     ]
    }
   ],
   "source": [
    "# print 1 to 10\n",
    "# print 10 to 1\n",
    "\n",
    "for i in range(1,11):\n",
    "    print(i)\n",
    "\n",
    "for i in range(10,0,-1):\n",
    "    print(i)"
   ]
  },
  {
   "cell_type": "code",
   "execution_count": 8,
   "id": "d3d7ff70-ba3d-4579-92f0-65e3167356cc",
   "metadata": {},
   "outputs": [
    {
     "ename": "NameError",
     "evalue": "name 'null' is not defined",
     "output_type": "error",
     "traceback": [
      "\u001b[1;31m---------------------------------------------------------------------------\u001b[0m",
      "\u001b[1;31mNameError\u001b[0m                                 Traceback (most recent call last)",
      "Cell \u001b[1;32mIn[8], line 4\u001b[0m\n\u001b[0;32m      1\u001b[0m \u001b[38;5;66;03m#print NoneType - Data\u001b[39;00m\n\u001b[0;32m      2\u001b[0m \u001b[38;5;66;03m# how to represent null value in python - using None.\u001b[39;00m\n\u001b[1;32m----> 4\u001b[0m a\u001b[38;5;241m=\u001b[39m \u001b[43mnull\u001b[49m\n\u001b[0;32m      5\u001b[0m \u001b[38;5;28mprint\u001b[39m(a)\n",
      "\u001b[1;31mNameError\u001b[0m: name 'null' is not defined"
     ]
    }
   ],
   "source": [
    "#print NoneType - Data\n",
    "# how to represent null value in python - using None.\n",
    "\n",
    "a= null\n",
    "print(a)"
   ]
  },
  {
   "cell_type": "code",
   "execution_count": 9,
   "id": "7ac3e603-1b68-4eff-8d2f-f7d09fd1166b",
   "metadata": {},
   "outputs": [
    {
     "name": "stdout",
     "output_type": "stream",
     "text": [
      "<class 'NoneType'>\n"
     ]
    }
   ],
   "source": [
    "a= None\n",
    "print(type(a))"
   ]
  },
  {
   "cell_type": "code",
   "execution_count": 10,
   "id": "6c156f0e-0055-4bf4-9c01-2bab152d81e3",
   "metadata": {},
   "outputs": [
    {
     "name": "stdout",
     "output_type": "stream",
     "text": [
      "None\n",
      "<class 'NoneType'>\n"
     ]
    }
   ],
   "source": [
    "def cal_Age():\n",
    "    #return 42\n",
    "    pass\n",
    "\n",
    "print(cal_Age())\n",
    "print(type(cal_Age()))"
   ]
  },
  {
   "cell_type": "code",
   "execution_count": null,
   "id": "8801ccc1-5ddb-4379-b3a3-f16f5e7dce9d",
   "metadata": {},
   "outputs": [],
   "source": []
  }
 ],
 "metadata": {
  "kernelspec": {
   "display_name": "Python 3 (ipykernel)",
   "language": "python",
   "name": "python3"
  },
  "language_info": {
   "codemirror_mode": {
    "name": "ipython",
    "version": 3
   },
   "file_extension": ".py",
   "mimetype": "text/x-python",
   "name": "python",
   "nbconvert_exporter": "python",
   "pygments_lexer": "ipython3",
   "version": "3.12.3"
  }
 },
 "nbformat": 4,
 "nbformat_minor": 5
}
